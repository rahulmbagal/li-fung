{
 "cells": [
  {
   "cell_type": "code",
   "execution_count": 1,
   "metadata": {},
   "outputs": [],
   "source": [
    "# from PIL import Image\n",
    "import imagehash\n",
    "\n",
    "import pandas as pd\n",
    "import numpy as np\n",
    "\n",
    "\n",
    "import cv2\n",
    "import numpy\n",
    "import glob\n",
    "import pylab as plt\n",
    "\n",
    "import multiprocessing\n",
    "from joblib import Parallel, delayed\n",
    "from tqdm import tqdm\n",
    "\n",
    "from PIL import Image, ImageFile \n",
    "import imagehash \n",
    "ImageFile.LOAD_TRUNCATED_IMAGES = True"
   ]
  },
  {
   "cell_type": "code",
   "execution_count": 2,
   "metadata": {},
   "outputs": [],
   "source": [
    "# ! pip install opencv-python"
   ]
  },
  {
   "cell_type": "code",
   "execution_count": 3,
   "metadata": {},
   "outputs": [
    {
     "data": {
      "text/plain": [
       "'D:\\\\Lu&Fung\\\\Code'"
      ]
     },
     "execution_count": 3,
     "metadata": {},
     "output_type": "execute_result"
    }
   ],
   "source": [
    "import os\n",
    "\n",
    "os.getcwd()"
   ]
  },
  {
   "cell_type": "code",
   "execution_count": 4,
   "metadata": {},
   "outputs": [
    {
     "data": {
      "text/plain": [
       "'D:\\\\Lu&Fung\\\\ImageClassification\\\\train_dummy'"
      ]
     },
     "execution_count": 4,
     "metadata": {},
     "output_type": "execute_result"
    }
   ],
   "source": [
    "os.chdir(r'D:\\\\Lu&Fung\\\\ImageClassification\\\\train_dummy')\n",
    "os.getcwd()"
   ]
  },
  {
   "cell_type": "code",
   "execution_count": 5,
   "metadata": {},
   "outputs": [],
   "source": [
    "train_labels = pd.read_csv(\"D:\\\\Lu&Fung\\\\case_study_image_classification_Training_Tags.csv\", index_col=\"filename\")"
   ]
  },
  {
   "cell_type": "code",
   "execution_count": 6,
   "metadata": {},
   "outputs": [],
   "source": [
    "train_labels[\"filename_\"] = train_labels.index"
   ]
  },
  {
   "cell_type": "code",
   "execution_count": 7,
   "metadata": {},
   "outputs": [
    {
     "data": {
      "text/html": [
       "<div>\n",
       "<style scoped>\n",
       "    .dataframe tbody tr th:only-of-type {\n",
       "        vertical-align: middle;\n",
       "    }\n",
       "\n",
       "    .dataframe tbody tr th {\n",
       "        vertical-align: top;\n",
       "    }\n",
       "\n",
       "    .dataframe thead th {\n",
       "        text-align: right;\n",
       "    }\n",
       "</style>\n",
       "<table border=\"1\" class=\"dataframe\">\n",
       "  <thead>\n",
       "    <tr style=\"text-align: right;\">\n",
       "      <th></th>\n",
       "      <th>x_min</th>\n",
       "      <th>y_min</th>\n",
       "      <th>x_max</th>\n",
       "      <th>y_max</th>\n",
       "      <th>product_type</th>\n",
       "      <th>fabric_print_type</th>\n",
       "      <th>filename_</th>\n",
       "    </tr>\n",
       "    <tr>\n",
       "      <th>filename</th>\n",
       "      <th></th>\n",
       "      <th></th>\n",
       "      <th></th>\n",
       "      <th></th>\n",
       "      <th></th>\n",
       "      <th></th>\n",
       "      <th></th>\n",
       "    </tr>\n",
       "  </thead>\n",
       "  <tbody>\n",
       "    <tr>\n",
       "      <td>6e19710a34247d6cf9de88e6ad6d8c1f-tan</td>\n",
       "      <td>NaN</td>\n",
       "      <td>NaN</td>\n",
       "      <td>NaN</td>\n",
       "      <td>NaN</td>\n",
       "      <td>Dresses</td>\n",
       "      <td>leopard print</td>\n",
       "      <td>6e19710a34247d6cf9de88e6ad6d8c1f-tan</td>\n",
       "    </tr>\n",
       "    <tr>\n",
       "      <td>25caec9c895dbd29ff21b0e91a5ebe10-yellow</td>\n",
       "      <td>NaN</td>\n",
       "      <td>NaN</td>\n",
       "      <td>NaN</td>\n",
       "      <td>NaN</td>\n",
       "      <td>Dresses</td>\n",
       "      <td>leopard print</td>\n",
       "      <td>25caec9c895dbd29ff21b0e91a5ebe10-yellow</td>\n",
       "    </tr>\n",
       "    <tr>\n",
       "      <td>eb2062166001556e77ef31f69f1248f3-taupe</td>\n",
       "      <td>NaN</td>\n",
       "      <td>NaN</td>\n",
       "      <td>NaN</td>\n",
       "      <td>NaN</td>\n",
       "      <td>Dresses</td>\n",
       "      <td>leopard print</td>\n",
       "      <td>eb2062166001556e77ef31f69f1248f3-taupe</td>\n",
       "    </tr>\n",
       "    <tr>\n",
       "      <td>5030dad209985b4222ad6485e361d155-heathergreyblack</td>\n",
       "      <td>NaN</td>\n",
       "      <td>NaN</td>\n",
       "      <td>NaN</td>\n",
       "      <td>NaN</td>\n",
       "      <td>Dresses</td>\n",
       "      <td>leopard print</td>\n",
       "      <td>5030dad209985b4222ad6485e361d155-heathergreyblack</td>\n",
       "    </tr>\n",
       "    <tr>\n",
       "      <td>cef8596a4ec0331d76012362f406187f-black</td>\n",
       "      <td>NaN</td>\n",
       "      <td>NaN</td>\n",
       "      <td>NaN</td>\n",
       "      <td>NaN</td>\n",
       "      <td>Dresses</td>\n",
       "      <td>leopard print</td>\n",
       "      <td>cef8596a4ec0331d76012362f406187f-black</td>\n",
       "    </tr>\n",
       "  </tbody>\n",
       "</table>\n",
       "</div>"
      ],
      "text/plain": [
       "                                                   x_min  y_min  x_max  y_max  \\\n",
       "filename                                                                        \n",
       "6e19710a34247d6cf9de88e6ad6d8c1f-tan                 NaN    NaN    NaN    NaN   \n",
       "25caec9c895dbd29ff21b0e91a5ebe10-yellow              NaN    NaN    NaN    NaN   \n",
       "eb2062166001556e77ef31f69f1248f3-taupe               NaN    NaN    NaN    NaN   \n",
       "5030dad209985b4222ad6485e361d155-heathergreyblack    NaN    NaN    NaN    NaN   \n",
       "cef8596a4ec0331d76012362f406187f-black               NaN    NaN    NaN    NaN   \n",
       "\n",
       "                                                  product_type  \\\n",
       "filename                                                         \n",
       "6e19710a34247d6cf9de88e6ad6d8c1f-tan                   Dresses   \n",
       "25caec9c895dbd29ff21b0e91a5ebe10-yellow                Dresses   \n",
       "eb2062166001556e77ef31f69f1248f3-taupe                 Dresses   \n",
       "5030dad209985b4222ad6485e361d155-heathergreyblack      Dresses   \n",
       "cef8596a4ec0331d76012362f406187f-black                 Dresses   \n",
       "\n",
       "                                                  fabric_print_type  \\\n",
       "filename                                                              \n",
       "6e19710a34247d6cf9de88e6ad6d8c1f-tan                  leopard print   \n",
       "25caec9c895dbd29ff21b0e91a5ebe10-yellow               leopard print   \n",
       "eb2062166001556e77ef31f69f1248f3-taupe                leopard print   \n",
       "5030dad209985b4222ad6485e361d155-heathergreyblack     leopard print   \n",
       "cef8596a4ec0331d76012362f406187f-black                leopard print   \n",
       "\n",
       "                                                                                           filename_  \n",
       "filename                                                                                              \n",
       "6e19710a34247d6cf9de88e6ad6d8c1f-tan                            6e19710a34247d6cf9de88e6ad6d8c1f-tan  \n",
       "25caec9c895dbd29ff21b0e91a5ebe10-yellow                      25caec9c895dbd29ff21b0e91a5ebe10-yellow  \n",
       "eb2062166001556e77ef31f69f1248f3-taupe                        eb2062166001556e77ef31f69f1248f3-taupe  \n",
       "5030dad209985b4222ad6485e361d155-heathergreyblack  5030dad209985b4222ad6485e361d155-heathergreyblack  \n",
       "cef8596a4ec0331d76012362f406187f-black                        cef8596a4ec0331d76012362f406187f-black  "
      ]
     },
     "execution_count": 7,
     "metadata": {},
     "output_type": "execute_result"
    }
   ],
   "source": [
    "train_labels.tail()"
   ]
  },
  {
   "cell_type": "code",
   "execution_count": 8,
   "metadata": {},
   "outputs": [
    {
     "data": {
      "text/plain": [
       "(19730, 7)"
      ]
     },
     "execution_count": 8,
     "metadata": {},
     "output_type": "execute_result"
    }
   ],
   "source": [
    "bounderies_lables = train_labels[train_labels['x_min'].notnull()]\n",
    "bounderies_lables.shape"
   ]
  },
  {
   "cell_type": "code",
   "execution_count": 9,
   "metadata": {},
   "outputs": [
    {
     "data": {
      "text/html": [
       "<div>\n",
       "<style scoped>\n",
       "    .dataframe tbody tr th:only-of-type {\n",
       "        vertical-align: middle;\n",
       "    }\n",
       "\n",
       "    .dataframe tbody tr th {\n",
       "        vertical-align: top;\n",
       "    }\n",
       "\n",
       "    .dataframe thead th {\n",
       "        text-align: right;\n",
       "    }\n",
       "</style>\n",
       "<table border=\"1\" class=\"dataframe\">\n",
       "  <thead>\n",
       "    <tr style=\"text-align: right;\">\n",
       "      <th></th>\n",
       "      <th>x_min</th>\n",
       "      <th>y_min</th>\n",
       "      <th>x_max</th>\n",
       "      <th>y_max</th>\n",
       "      <th>product_type</th>\n",
       "      <th>fabric_print_type</th>\n",
       "      <th>filename_</th>\n",
       "    </tr>\n",
       "    <tr>\n",
       "      <th>filename</th>\n",
       "      <th></th>\n",
       "      <th></th>\n",
       "      <th></th>\n",
       "      <th></th>\n",
       "      <th></th>\n",
       "      <th></th>\n",
       "      <th></th>\n",
       "    </tr>\n",
       "  </thead>\n",
       "  <tbody>\n",
       "    <tr>\n",
       "      <td>2c6038d030f7e52a5798e6e5734c8ded-1</td>\n",
       "      <td>367.0</td>\n",
       "      <td>151.0</td>\n",
       "      <td>724.0</td>\n",
       "      <td>743.0</td>\n",
       "      <td>Dresses</td>\n",
       "      <td>camouflage</td>\n",
       "      <td>2c6038d030f7e52a5798e6e5734c8ded-1</td>\n",
       "    </tr>\n",
       "    <tr>\n",
       "      <td>89583cfdcde796b219f8655388777bbb-3</td>\n",
       "      <td>78.0</td>\n",
       "      <td>307.0</td>\n",
       "      <td>1027.0</td>\n",
       "      <td>1067.0</td>\n",
       "      <td>Dresses</td>\n",
       "      <td>camouflage</td>\n",
       "      <td>89583cfdcde796b219f8655388777bbb-3</td>\n",
       "    </tr>\n",
       "    <tr>\n",
       "      <td>2e74a5870a81c24aa7fb5c86a228cf17-1</td>\n",
       "      <td>204.0</td>\n",
       "      <td>104.0</td>\n",
       "      <td>410.0</td>\n",
       "      <td>302.0</td>\n",
       "      <td>Blouses</td>\n",
       "      <td>check</td>\n",
       "      <td>2e74a5870a81c24aa7fb5c86a228cf17-1</td>\n",
       "    </tr>\n",
       "    <tr>\n",
       "      <td>bc70bcf7735186b955cae0af6a54c5c2-2</td>\n",
       "      <td>400.0</td>\n",
       "      <td>359.0</td>\n",
       "      <td>668.0</td>\n",
       "      <td>790.0</td>\n",
       "      <td>Blouses</td>\n",
       "      <td>check</td>\n",
       "      <td>bc70bcf7735186b955cae0af6a54c5c2-2</td>\n",
       "    </tr>\n",
       "    <tr>\n",
       "      <td>b5a4c599f6a0ba63ae6a480d50aac480-1</td>\n",
       "      <td>156.0</td>\n",
       "      <td>254.0</td>\n",
       "      <td>690.0</td>\n",
       "      <td>1017.0</td>\n",
       "      <td>Blouses</td>\n",
       "      <td>check</td>\n",
       "      <td>b5a4c599f6a0ba63ae6a480d50aac480-1</td>\n",
       "    </tr>\n",
       "  </tbody>\n",
       "</table>\n",
       "</div>"
      ],
      "text/plain": [
       "                                    x_min  y_min   x_max   y_max product_type  \\\n",
       "filename                                                                        \n",
       "2c6038d030f7e52a5798e6e5734c8ded-1  367.0  151.0   724.0   743.0      Dresses   \n",
       "89583cfdcde796b219f8655388777bbb-3   78.0  307.0  1027.0  1067.0      Dresses   \n",
       "2e74a5870a81c24aa7fb5c86a228cf17-1  204.0  104.0   410.0   302.0      Blouses   \n",
       "bc70bcf7735186b955cae0af6a54c5c2-2  400.0  359.0   668.0   790.0      Blouses   \n",
       "b5a4c599f6a0ba63ae6a480d50aac480-1  156.0  254.0   690.0  1017.0      Blouses   \n",
       "\n",
       "                                   fabric_print_type  \\\n",
       "filename                                               \n",
       "2c6038d030f7e52a5798e6e5734c8ded-1        camouflage   \n",
       "89583cfdcde796b219f8655388777bbb-3        camouflage   \n",
       "2e74a5870a81c24aa7fb5c86a228cf17-1             check   \n",
       "bc70bcf7735186b955cae0af6a54c5c2-2             check   \n",
       "b5a4c599f6a0ba63ae6a480d50aac480-1             check   \n",
       "\n",
       "                                                             filename_  \n",
       "filename                                                                \n",
       "2c6038d030f7e52a5798e6e5734c8ded-1  2c6038d030f7e52a5798e6e5734c8ded-1  \n",
       "89583cfdcde796b219f8655388777bbb-3  89583cfdcde796b219f8655388777bbb-3  \n",
       "2e74a5870a81c24aa7fb5c86a228cf17-1  2e74a5870a81c24aa7fb5c86a228cf17-1  \n",
       "bc70bcf7735186b955cae0af6a54c5c2-2  bc70bcf7735186b955cae0af6a54c5c2-2  \n",
       "b5a4c599f6a0ba63ae6a480d50aac480-1  b5a4c599f6a0ba63ae6a480d50aac480-1  "
      ]
     },
     "execution_count": 9,
     "metadata": {},
     "output_type": "execute_result"
    }
   ],
   "source": [
    "bounderies_lables.head()"
   ]
  },
  {
   "cell_type": "code",
   "execution_count": 10,
   "metadata": {},
   "outputs": [
    {
     "data": {
      "text/plain": [
       "(39008, 7)"
      ]
     },
     "execution_count": 10,
     "metadata": {},
     "output_type": "execute_result"
    }
   ],
   "source": [
    "no_bounderies_lables = train_labels[train_labels['x_min'].isnull()]\n",
    "no_bounderies_lables.shape"
   ]
  },
  {
   "cell_type": "code",
   "execution_count": 11,
   "metadata": {},
   "outputs": [
    {
     "data": {
      "text/plain": [
       "True"
      ]
     },
     "execution_count": 11,
     "metadata": {},
     "output_type": "execute_result"
    }
   ],
   "source": [
    "no_bounderies_lables.shape[0] + bounderies_lables.shape[0] == train_labels.shape[0]"
   ]
  },
  {
   "cell_type": "code",
   "execution_count": 12,
   "metadata": {},
   "outputs": [],
   "source": [
    "##############################################################################"
   ]
  },
  {
   "cell_type": "code",
   "execution_count": null,
   "metadata": {},
   "outputs": [],
   "source": [
    "# hashing the duplicates images"
   ]
  },
  {
   "cell_type": "code",
   "execution_count": 13,
   "metadata": {},
   "outputs": [],
   "source": [
    "duplicates = []\n",
    "hash_keys = {}\n",
    "\n",
    "for index, filename in  enumerate(os.listdir('.')):  # listdir('.') = current directory\n",
    "    img=Image.open(filename)\n",
    "    \n",
    "    img_hash = imagehash.phash(img) # get perceptual hash for the file\n",
    "    #print(img_hash)\n",
    "    if img_hash in hash_keys: \n",
    "        temp = str(filename)\n",
    "        temp_1 = temp.replace(\".jpg\", \"\")\n",
    "        duplicates.append((index,temp_1))\n",
    "    else:\n",
    "        \n",
    "        hash_keys[img_hash] = filename\n",
    "            \n",
    "            \n",
    "file_list = os.listdir() #File List"
   ]
  },
  {
   "cell_type": "code",
   "execution_count": 14,
   "metadata": {},
   "outputs": [
    {
     "name": "stdout",
     "output_type": "stream",
     "text": [
      "23\n"
     ]
    }
   ],
   "source": [
    "print(len(duplicates)) # print the number of duplicates/similar images"
   ]
  },
  {
   "cell_type": "code",
   "execution_count": 15,
   "metadata": {},
   "outputs": [
    {
     "name": "stdout",
     "output_type": "stream",
     "text": [
      "duplicates_files :  23\n"
     ]
    },
    {
     "data": {
      "text/plain": [
       "['00a17463990439bf89f18f9197d30893-2', '00a17463990439bf89f18f9197d30893-3']"
      ]
     },
     "execution_count": 15,
     "metadata": {},
     "output_type": "execute_result"
    }
   ],
   "source": [
    "duplicates_files = [duplicates[i][1] for i in range(len(duplicates))] \n",
    "# duplicates[1][1]\n",
    "print (\"duplicates_files : \" ,len (duplicates_files))\n",
    "duplicates_files[0:2]"
   ]
  },
  {
   "cell_type": "code",
   "execution_count": 16,
   "metadata": {},
   "outputs": [],
   "source": [
    "folders = glob.glob(\"D:\\\\Lu&Fung\\\\ImageClassification\\\\train_dummy\\\\\")\n",
    "imagenames_list = []\n",
    "folders\n",
    "\n",
    "for folder in folders:\n",
    "    for f in glob.glob(folder+'/*.jpg'):\n",
    "        imagenames_list.append(f)"
   ]
  },
  {
   "cell_type": "code",
   "execution_count": 17,
   "metadata": {},
   "outputs": [
    {
     "data": {
      "text/plain": [
       "137"
      ]
     },
     "execution_count": 17,
     "metadata": {},
     "output_type": "execute_result"
    }
   ],
   "source": [
    "len(imagenames_list)"
   ]
  },
  {
   "cell_type": "code",
   "execution_count": 18,
   "metadata": {},
   "outputs": [
    {
     "data": {
      "text/plain": [
       "14"
      ]
     },
     "execution_count": 18,
     "metadata": {},
     "output_type": "execute_result"
    }
   ],
   "source": [
    "# def processInput(image):\n",
    "#     lab = str(image)\n",
    "#     lab = lab.replace(\".//Data//ImageClassification//Train/\", \"\")\n",
    "#     image_1 = cv2.imread(image)\n",
    "#     b,g,r = cv2.split(image_1)       # get b,g,r\n",
    "#     rgb_img = cv2.merge([r,g,b]) \n",
    "# #     return [lab, cv2.imread(image, cv2.COLOR_BGR2GRAY)]\n",
    "#     return [lab, rgb_img]\n",
    "\n",
    "\n",
    "def processInput(image):\n",
    "    lab = str(image)\n",
    "    lab = lab.replace(\"D:\\\\Lu&Fung\\\\ImageClassification\\\\train_dummy\\\\\", \"\")\n",
    "    lab = lab.replace(\".jpg\", \"\")\n",
    "    return [lab, cv2.imread(image, cv2.COLOR_BGR2GRAY)]\n",
    "   \n",
    "num_cores = multiprocessing.cpu_count() - 2\n",
    "num_cores"
   ]
  },
  {
   "cell_type": "code",
   "execution_count": 19,
   "metadata": {
    "scrolled": true
   },
   "outputs": [
    {
     "name": "stdout",
     "output_type": "stream",
     "text": [
      "00:00:01.24\n"
     ]
    }
   ],
   "source": [
    "import time\n",
    "start = time.time()\n",
    "results = Parallel(n_jobs=num_cores)(delayed(processInput)(image) for image in imagenames_list)\n",
    "end = time.time()\n",
    "hours, rem = divmod(end-start, 3600)\n",
    "minutes, seconds = divmod(rem, 60)\n",
    "print(\"{:0>2}:{:0>2}:{:05.2f}\".format(int(hours),int(minutes),seconds))\n"
   ]
  },
  {
   "cell_type": "code",
   "execution_count": 20,
   "metadata": {},
   "outputs": [
    {
     "data": {
      "text/plain": [
       "(137, 2)"
      ]
     },
     "execution_count": 20,
     "metadata": {},
     "output_type": "execute_result"
    }
   ],
   "source": [
    "np.shape(results)"
   ]
  },
  {
   "cell_type": "code",
   "execution_count": 21,
   "metadata": {},
   "outputs": [
    {
     "data": {
      "text/plain": [
       "'000a873ea50da9cc8c4b2605c70b6810-blackgold'"
      ]
     },
     "execution_count": 21,
     "metadata": {},
     "output_type": "execute_result"
    }
   ],
   "source": [
    "results[0][0]"
   ]
  },
  {
   "cell_type": "code",
   "execution_count": 22,
   "metadata": {},
   "outputs": [
    {
     "data": {
      "text/plain": [
       "(400, 328, 3)"
      ]
     },
     "execution_count": 22,
     "metadata": {},
     "output_type": "execute_result"
    }
   ],
   "source": [
    "results[0][1].shape"
   ]
  },
  {
   "cell_type": "code",
   "execution_count": 23,
   "metadata": {},
   "outputs": [],
   "source": [
    "# duplicates[j][1]"
   ]
  },
  {
   "cell_type": "code",
   "execution_count": 24,
   "metadata": {},
   "outputs": [],
   "source": [
    "image_no_duplicate = []\n",
    "\n",
    "image_duplicate = []\n",
    "temp_ = []\n",
    "for i in range(len(duplicates)):\n",
    "    temp_.append(duplicates[i][1])\n",
    "\n",
    "for i in range(len(results)):\n",
    "        if results[i][0] not in temp_:\n",
    "            image_no_duplicate.append(results[i])\n",
    "        else:\n",
    "            image_duplicate.append(results[i])\n"
   ]
  },
  {
   "cell_type": "code",
   "execution_count": 25,
   "metadata": {},
   "outputs": [
    {
     "data": {
      "text/plain": [
       "(400, 328, 3)"
      ]
     },
     "execution_count": 25,
     "metadata": {},
     "output_type": "execute_result"
    }
   ],
   "source": [
    "image_no_duplicate[0][1].shape"
   ]
  },
  {
   "cell_type": "code",
   "execution_count": 26,
   "metadata": {},
   "outputs": [
    {
     "data": {
      "text/plain": [
       "(114, 2)"
      ]
     },
     "execution_count": 26,
     "metadata": {},
     "output_type": "execute_result"
    }
   ],
   "source": [
    "np.shape(image_no_duplicate)"
   ]
  },
  {
   "cell_type": "code",
   "execution_count": 27,
   "metadata": {},
   "outputs": [
    {
     "data": {
      "text/plain": [
       "(114, 2)"
      ]
     },
     "execution_count": 27,
     "metadata": {},
     "output_type": "execute_result"
    }
   ],
   "source": [
    "np.shape(image_no_duplicate)"
   ]
  },
  {
   "cell_type": "code",
   "execution_count": 28,
   "metadata": {},
   "outputs": [
    {
     "data": {
      "text/plain": [
       "True"
      ]
     },
     "execution_count": 28,
     "metadata": {},
     "output_type": "execute_result"
    }
   ],
   "source": [
    "np.shape(image_no_duplicate)[0] == (np.shape(results)[0] - len(duplicates_files))"
   ]
  },
  {
   "cell_type": "code",
   "execution_count": 29,
   "metadata": {},
   "outputs": [],
   "source": [
    "#########################################################################################"
   ]
  },
  {
   "cell_type": "code",
   "execution_count": 30,
   "metadata": {},
   "outputs": [],
   "source": [
    "# image_no_duplicate"
   ]
  },
  {
   "cell_type": "code",
   "execution_count": 31,
   "metadata": {},
   "outputs": [],
   "source": [
    "# list(no_bounderies_lables['filename_'])\n",
    "\n",
    "# list(bounderies_lables['filename_'])\n",
    "bounderies_images = []\n",
    "not_encounter = []\n",
    "\n",
    "for i in range(len(image_no_duplicate)):\n",
    "        if image_no_duplicate[i][0] in list(bounderies_lables['filename_']):\n",
    "            bounderies_images.append(image_no_duplicate[i])\n",
    "        else:\n",
    "            not_encounter.append(image_no_duplicate[i])"
   ]
  },
  {
   "cell_type": "code",
   "execution_count": 32,
   "metadata": {},
   "outputs": [
    {
     "data": {
      "text/plain": [
       "(47, 2)"
      ]
     },
     "execution_count": 32,
     "metadata": {},
     "output_type": "execute_result"
    }
   ],
   "source": [
    "np.shape(bounderies_images)"
   ]
  },
  {
   "cell_type": "code",
   "execution_count": 33,
   "metadata": {},
   "outputs": [
    {
     "data": {
      "text/plain": [
       "(67, 2)"
      ]
     },
     "execution_count": 33,
     "metadata": {},
     "output_type": "execute_result"
    }
   ],
   "source": [
    "np.shape(not_encounter)"
   ]
  },
  {
   "cell_type": "code",
   "execution_count": 34,
   "metadata": {},
   "outputs": [
    {
     "data": {
      "text/plain": [
       "'000c0d1594bf145939b9db3005fc08ea-1'"
      ]
     },
     "execution_count": 34,
     "metadata": {},
     "output_type": "execute_result"
    }
   ],
   "source": [
    "bounderies_images[0][0]"
   ]
  },
  {
   "cell_type": "code",
   "execution_count": 35,
   "metadata": {},
   "outputs": [
    {
     "data": {
      "text/plain": [
       "'000a873ea50da9cc8c4b2605c70b6810-blackgold'"
      ]
     },
     "execution_count": 35,
     "metadata": {},
     "output_type": "execute_result"
    }
   ],
   "source": [
    "not_encounter[0][0]"
   ]
  },
  {
   "cell_type": "code",
   "execution_count": 36,
   "metadata": {},
   "outputs": [],
   "source": [
    "No_bounderies_images = []\n",
    "not_encounter_ = []\n",
    "\n",
    "for i in range(len(image_no_duplicate)):\n",
    "        if image_no_duplicate[i][0] in list(no_bounderies_lables['filename_']):\n",
    "            No_bounderies_images.append(image_no_duplicate[i])\n",
    "        else:\n",
    "            not_encounter_.append(image_no_duplicate[i])"
   ]
  },
  {
   "cell_type": "code",
   "execution_count": 37,
   "metadata": {},
   "outputs": [
    {
     "data": {
      "text/plain": [
       "'000a873ea50da9cc8c4b2605c70b6810-blackgold'"
      ]
     },
     "execution_count": 37,
     "metadata": {},
     "output_type": "execute_result"
    }
   ],
   "source": [
    "No_bounderies_images[0][0]"
   ]
  },
  {
   "cell_type": "code",
   "execution_count": 189,
   "metadata": {},
   "outputs": [
    {
     "data": {
      "text/plain": [
       "-1"
      ]
     },
     "execution_count": 189,
     "metadata": {},
     "output_type": "execute_result"
    }
   ],
   "source": [
    "# cv2.imshow(\"cropped\", low_dimension_images[0][1])\n",
    "# cv2.waitKey(0)"
   ]
  },
  {
   "cell_type": "code",
   "execution_count": null,
   "metadata": {},
   "outputs": [],
   "source": []
  }
 ],
 "metadata": {
  "kernelspec": {
   "display_name": "Python 3",
   "language": "python",
   "name": "python3"
  },
  "language_info": {
   "codemirror_mode": {
    "name": "ipython",
    "version": 3
   },
   "file_extension": ".py",
   "mimetype": "text/x-python",
   "name": "python",
   "nbconvert_exporter": "python",
   "pygments_lexer": "ipython3",
   "version": "3.7.4"
  }
 },
 "nbformat": 4,
 "nbformat_minor": 4
}
