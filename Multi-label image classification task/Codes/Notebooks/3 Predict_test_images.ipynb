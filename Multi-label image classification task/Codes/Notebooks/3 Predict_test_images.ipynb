{
 "cells": [
  {
   "cell_type": "code",
   "execution_count": 3,
   "metadata": {},
   "outputs": [],
   "source": [
    "# from PIL import Image\n",
    "import imagehash\n",
    "\n",
    "import pandas as pd\n",
    "import numpy as np\n",
    "# from keras.models import Sequential\n",
    "# from keras.layers.normalization import BatchNormalization\n",
    "# from keras.layers.convolutional import Conv2D\n",
    "# from keras.layers.convolutional import MaxPooling2D\n",
    "# from keras.layers.core import Activation\n",
    "# from keras.layers.core import Flatten\n",
    "# from keras.layers.core import Dropout\n",
    "# from keras.layers.core import Dense\n",
    "# from keras import backend as K\n",
    "# import multiprocessing\n",
    "# from joblib import Parallel, delayed\n",
    "# from tqdm import tqdm\n",
    "\n",
    "# import cv2\n",
    "# import numpy\n",
    "# import glob\n",
    "# import pylab as plt\n",
    "\n",
    "import cv2\n",
    "import numpy\n",
    "import glob\n",
    "import pylab as plt\n",
    "\n",
    "import multiprocessing\n",
    "from joblib import Parallel, delayed\n",
    "from tqdm import tqdm\n",
    "\n",
    "from PIL import Image, ImageFile \n",
    "import imagehash \n",
    "ImageFile.LOAD_TRUNCATED_IMAGES = True"
   ]
  },
  {
   "cell_type": "code",
   "execution_count": 18,
   "metadata": {},
   "outputs": [
    {
     "data": {
      "text/html": [
       "<div>\n",
       "<style scoped>\n",
       "    .dataframe tbody tr th:only-of-type {\n",
       "        vertical-align: middle;\n",
       "    }\n",
       "\n",
       "    .dataframe tbody tr th {\n",
       "        vertical-align: top;\n",
       "    }\n",
       "\n",
       "    .dataframe thead th {\n",
       "        text-align: right;\n",
       "    }\n",
       "</style>\n",
       "<table border=\"1\" class=\"dataframe\">\n",
       "  <thead>\n",
       "    <tr style=\"text-align: right;\">\n",
       "      <th></th>\n",
       "      <th>filename</th>\n",
       "      <th>x_min</th>\n",
       "      <th>y_min</th>\n",
       "      <th>x_max</th>\n",
       "      <th>y_max</th>\n",
       "    </tr>\n",
       "  </thead>\n",
       "  <tbody>\n",
       "    <tr>\n",
       "      <td>0</td>\n",
       "      <td>cb19bd23170a547e9bdc2d66ad60fb02-2</td>\n",
       "      <td>244.0</td>\n",
       "      <td>120.0</td>\n",
       "      <td>600.0</td>\n",
       "      <td>589.0</td>\n",
       "    </tr>\n",
       "    <tr>\n",
       "      <td>1</td>\n",
       "      <td>29798e002137b56731311c7b4e3f2d37-2</td>\n",
       "      <td>48.0</td>\n",
       "      <td>409.0</td>\n",
       "      <td>208.0</td>\n",
       "      <td>574.0</td>\n",
       "    </tr>\n",
       "    <tr>\n",
       "      <td>2</td>\n",
       "      <td>b7c571c3c8b35bed7cb672542db567f2-ivorymulti</td>\n",
       "      <td>NaN</td>\n",
       "      <td>NaN</td>\n",
       "      <td>NaN</td>\n",
       "      <td>NaN</td>\n",
       "    </tr>\n",
       "    <tr>\n",
       "      <td>3</td>\n",
       "      <td>8fd862d8eb8b37d4657a9fae132510f3-cream</td>\n",
       "      <td>NaN</td>\n",
       "      <td>NaN</td>\n",
       "      <td>NaN</td>\n",
       "      <td>NaN</td>\n",
       "    </tr>\n",
       "    <tr>\n",
       "      <td>4</td>\n",
       "      <td>34bbbe3d045cea800bec120e854720e0-2</td>\n",
       "      <td>365.0</td>\n",
       "      <td>661.0</td>\n",
       "      <td>746.0</td>\n",
       "      <td>1092.0</td>\n",
       "    </tr>\n",
       "  </tbody>\n",
       "</table>\n",
       "</div>"
      ],
      "text/plain": [
       "                                      filename  x_min  y_min  x_max   y_max\n",
       "0           cb19bd23170a547e9bdc2d66ad60fb02-2  244.0  120.0  600.0   589.0\n",
       "1           29798e002137b56731311c7b4e3f2d37-2   48.0  409.0  208.0   574.0\n",
       "2  b7c571c3c8b35bed7cb672542db567f2-ivorymulti    NaN    NaN    NaN     NaN\n",
       "3       8fd862d8eb8b37d4657a9fae132510f3-cream    NaN    NaN    NaN     NaN\n",
       "4           34bbbe3d045cea800bec120e854720e0-2  365.0  661.0  746.0  1092.0"
      ]
     },
     "execution_count": 18,
     "metadata": {},
     "output_type": "execute_result"
    }
   ],
   "source": [
    "test_labels = pd.read_csv(\"case_study_image_classification_Test_Prediction.csv\")\n",
    "test_labels.head()"
   ]
  },
  {
   "cell_type": "code",
   "execution_count": 20,
   "metadata": {},
   "outputs": [],
   "source": [
    "test_labels.fillna({\"x_min\" : 0.0, \"y_min\" : 0.0, \"x_max\" : 0.0, \"y_max\" : 0.0}, inplace = True)"
   ]
  },
  {
   "cell_type": "code",
   "execution_count": 21,
   "metadata": {},
   "outputs": [
    {
     "data": {
      "text/html": [
       "<div>\n",
       "<style scoped>\n",
       "    .dataframe tbody tr th:only-of-type {\n",
       "        vertical-align: middle;\n",
       "    }\n",
       "\n",
       "    .dataframe tbody tr th {\n",
       "        vertical-align: top;\n",
       "    }\n",
       "\n",
       "    .dataframe thead th {\n",
       "        text-align: right;\n",
       "    }\n",
       "</style>\n",
       "<table border=\"1\" class=\"dataframe\">\n",
       "  <thead>\n",
       "    <tr style=\"text-align: right;\">\n",
       "      <th></th>\n",
       "      <th>filename</th>\n",
       "      <th>x_min</th>\n",
       "      <th>y_min</th>\n",
       "      <th>x_max</th>\n",
       "      <th>y_max</th>\n",
       "    </tr>\n",
       "  </thead>\n",
       "  <tbody>\n",
       "    <tr>\n",
       "      <td>0</td>\n",
       "      <td>cb19bd23170a547e9bdc2d66ad60fb02-2</td>\n",
       "      <td>244.0</td>\n",
       "      <td>120.0</td>\n",
       "      <td>600.0</td>\n",
       "      <td>589.0</td>\n",
       "    </tr>\n",
       "    <tr>\n",
       "      <td>1</td>\n",
       "      <td>29798e002137b56731311c7b4e3f2d37-2</td>\n",
       "      <td>48.0</td>\n",
       "      <td>409.0</td>\n",
       "      <td>208.0</td>\n",
       "      <td>574.0</td>\n",
       "    </tr>\n",
       "    <tr>\n",
       "      <td>2</td>\n",
       "      <td>b7c571c3c8b35bed7cb672542db567f2-ivorymulti</td>\n",
       "      <td>0.0</td>\n",
       "      <td>0.0</td>\n",
       "      <td>0.0</td>\n",
       "      <td>0.0</td>\n",
       "    </tr>\n",
       "    <tr>\n",
       "      <td>3</td>\n",
       "      <td>8fd862d8eb8b37d4657a9fae132510f3-cream</td>\n",
       "      <td>0.0</td>\n",
       "      <td>0.0</td>\n",
       "      <td>0.0</td>\n",
       "      <td>0.0</td>\n",
       "    </tr>\n",
       "    <tr>\n",
       "      <td>4</td>\n",
       "      <td>34bbbe3d045cea800bec120e854720e0-2</td>\n",
       "      <td>365.0</td>\n",
       "      <td>661.0</td>\n",
       "      <td>746.0</td>\n",
       "      <td>1092.0</td>\n",
       "    </tr>\n",
       "  </tbody>\n",
       "</table>\n",
       "</div>"
      ],
      "text/plain": [
       "                                      filename  x_min  y_min  x_max   y_max\n",
       "0           cb19bd23170a547e9bdc2d66ad60fb02-2  244.0  120.0  600.0   589.0\n",
       "1           29798e002137b56731311c7b4e3f2d37-2   48.0  409.0  208.0   574.0\n",
       "2  b7c571c3c8b35bed7cb672542db567f2-ivorymulti    0.0    0.0    0.0     0.0\n",
       "3       8fd862d8eb8b37d4657a9fae132510f3-cream    0.0    0.0    0.0     0.0\n",
       "4           34bbbe3d045cea800bec120e854720e0-2  365.0  661.0  746.0  1092.0"
      ]
     },
     "execution_count": 21,
     "metadata": {},
     "output_type": "execute_result"
    }
   ],
   "source": [
    "test_labels.head()"
   ]
  },
  {
   "cell_type": "code",
   "execution_count": 7,
   "metadata": {},
   "outputs": [
    {
     "data": {
      "text/plain": [
       "(2679, 4)"
      ]
     },
     "execution_count": 7,
     "metadata": {},
     "output_type": "execute_result"
    }
   ],
   "source": [
    "test_labels.shape"
   ]
  },
  {
   "cell_type": "code",
   "execution_count": 8,
   "metadata": {},
   "outputs": [
    {
     "data": {
      "text/plain": [
       "2679"
      ]
     },
     "execution_count": 8,
     "metadata": {},
     "output_type": "execute_result"
    }
   ],
   "source": [
    "folders = glob.glob('.//Data//ImageClassification//Test/')\n",
    "imagenames_list = []\n",
    "\n",
    "for folder in folders:\n",
    "    for f in glob.glob(folder+'/*.jpg'):\n",
    "#         if f in image_names:\n",
    "        imagenames_list.append(f)\n",
    "len(imagenames_list)"
   ]
  },
  {
   "cell_type": "code",
   "execution_count": 9,
   "metadata": {},
   "outputs": [
    {
     "data": {
      "text/plain": [
       "['.//Data//ImageClassification//Test/143841dfb41b8ef1dcf41f9494af993b-black.jpg',\n",
       " './/Data//ImageClassification//Test/bb81806ad6cff4552d4f1e74176c18ba-blackdot.jpg']"
      ]
     },
     "execution_count": 9,
     "metadata": {},
     "output_type": "execute_result"
    }
   ],
   "source": [
    "imagenames_list[0:2]"
   ]
  },
  {
   "cell_type": "code",
   "execution_count": 11,
   "metadata": {},
   "outputs": [
    {
     "data": {
      "text/plain": [
       "30"
      ]
     },
     "execution_count": 11,
     "metadata": {},
     "output_type": "execute_result"
    }
   ],
   "source": [
    "def processInput(image):\n",
    "    lab = str(image)\n",
    "    lab = lab.replace(\".//Data//ImageClassification//Test/\", \"\")\n",
    "    lab = lab.replace(\".jpg\", \"\")\n",
    "    return [lab, cv2.imread(image, cv2.COLOR_BGR2RGB)]\n",
    "   \n",
    "num_cores = multiprocessing.cpu_count() \n",
    "num_cores"
   ]
  },
  {
   "cell_type": "code",
   "execution_count": 12,
   "metadata": {},
   "outputs": [
    {
     "name": "stdout",
     "output_type": "stream",
     "text": [
      "00:00:25.69\n"
     ]
    }
   ],
   "source": [
    "import time\n",
    "start = time.time()\n",
    "results = Parallel(n_jobs=num_cores)(delayed(processInput)(image) for image in imagenames_list)\n",
    "end = time.time()\n",
    "hours, rem = divmod(end-start, 3600)\n",
    "minutes, seconds = divmod(rem, 60)\n",
    "print(\"{:0>2}:{:0>2}:{:05.2f}\".format(int(hours),int(minutes),seconds))\n"
   ]
  },
  {
   "cell_type": "code",
   "execution_count": 13,
   "metadata": {},
   "outputs": [
    {
     "data": {
      "text/plain": [
       "2679"
      ]
     },
     "execution_count": 13,
     "metadata": {},
     "output_type": "execute_result"
    }
   ],
   "source": [
    "len(results)"
   ]
  },
  {
   "cell_type": "code",
   "execution_count": 15,
   "metadata": {},
   "outputs": [],
   "source": [
    "# results[1]"
   ]
  },
  {
   "cell_type": "code",
   "execution_count": 25,
   "metadata": {},
   "outputs": [],
   "source": [
    "# for i in range(len(bounderies_images)):\n",
    "cropped_images_labeled = []\n",
    "for i in range(len(results)):\n",
    "    temp = test_labels[test_labels['filename'] == results[i][0]]\n",
    "    \n",
    "    y_min = temp['y_min'].values\n",
    "    y_max = temp['y_max'].values\n",
    "    \n",
    "    x_min = temp['x_min'].values\n",
    "    x_max = temp['x_max'].values\n",
    "    \n",
    "   \n",
    "    temp_label = results[i][0]\n",
    "    \n",
    "    if ((y_min == 0.0)  & (x_min == 0.0)):\n",
    "        temp_crop_img = results[i][1]\n",
    "    else:\n",
    "        temp_crop_img = results[i][1][int(y_min) : int(y_max), int(x_min) : int(x_max)]\n",
    "    \n",
    "    cropped_images_labeled.append([temp_label, temp_crop_img])\n",
    "    "
   ]
  },
  {
   "cell_type": "code",
   "execution_count": 27,
   "metadata": {},
   "outputs": [
    {
     "data": {
      "text/plain": [
       "(2679, 2)"
      ]
     },
     "execution_count": 27,
     "metadata": {},
     "output_type": "execute_result"
    }
   ],
   "source": [
    "np.shape(cropped_images_labeled)"
   ]
  },
  {
   "cell_type": "code",
   "execution_count": 30,
   "metadata": {},
   "outputs": [
    {
     "data": {
      "text/plain": [
       "['bb81806ad6cff4552d4f1e74176c18ba-blackdot', array([[[232, 234, 235],\n",
       "         [232, 234, 235],\n",
       "         [232, 234, 235],\n",
       "         ...,\n",
       "         [233, 235, 236],\n",
       "         [233, 235, 236],\n",
       "         [233, 235, 236]],\n",
       " \n",
       "        [[232, 234, 235],\n",
       "         [232, 234, 235],\n",
       "         [232, 234, 235],\n",
       "         ...,\n",
       "         [233, 235, 236],\n",
       "         [233, 235, 236],\n",
       "         [233, 235, 236]],\n",
       " \n",
       "        [[232, 234, 235],\n",
       "         [232, 234, 235],\n",
       "         [232, 234, 235],\n",
       "         ...,\n",
       "         [233, 235, 236],\n",
       "         [233, 235, 236],\n",
       "         [233, 235, 236]],\n",
       " \n",
       "        ...,\n",
       " \n",
       "        [[222, 224, 225],\n",
       "         [223, 225, 226],\n",
       "         [223, 225, 226],\n",
       "         ...,\n",
       "         [225, 227, 228],\n",
       "         [226, 228, 229],\n",
       "         [226, 228, 229]],\n",
       " \n",
       "        [[222, 224, 225],\n",
       "         [223, 225, 226],\n",
       "         [224, 226, 227],\n",
       "         ...,\n",
       "         [225, 227, 228],\n",
       "         [226, 228, 229],\n",
       "         [226, 228, 229]],\n",
       " \n",
       "        [[222, 224, 225],\n",
       "         [223, 225, 226],\n",
       "         [224, 226, 227],\n",
       "         ...,\n",
       "         [225, 227, 228],\n",
       "         [226, 228, 229],\n",
       "         [226, 228, 229]]], dtype=uint8)]"
      ]
     },
     "execution_count": 30,
     "metadata": {},
     "output_type": "execute_result"
    }
   ],
   "source": [
    "cropped_images_labeled[1]"
   ]
  },
  {
   "cell_type": "code",
   "execution_count": 35,
   "metadata": {},
   "outputs": [
    {
     "data": {
      "image/png": "[encoded data removed]",
      "text/plain": [
       "<Figure size 432x288 with 1 Axes>"
      ]
     },
     "metadata": {
      "needs_background": "light"
     },
     "output_type": "display_data"
    },
    {
     "name": "stdout",
     "output_type": "stream",
     "text": [
      "2eb68081c81bc26cd1e119e5df8aa983-2\n"
     ]
    }
   ],
   "source": [
    "import matplotlib.pyplot as plt\n",
    "import matplotlib.image as mpimg\n",
    "%matplotlib inline\n",
    "\n",
    "plt.imshow(cv2.cvtColor(cropped_images_labeled[100][1], cv2.COLOR_BGR2RGB))\n",
    "plt.show()\n",
    "print (cropped_images_labeled[100][0])"
   ]
  },
  {
   "cell_type": "code",
   "execution_count": 36,
   "metadata": {},
   "outputs": [],
   "source": [
    "width_fixed = 250\n",
    "height_fixed = 250"
   ]
  },
  {
   "cell_type": "code",
   "execution_count": 37,
   "metadata": {},
   "outputs": [
    {
     "name": "stdout",
     "output_type": "stream",
     "text": [
      "(181, 2)\n",
      "(2498, 2)\n",
      "2679\n",
      "(2679, 2)\n"
     ]
    }
   ],
   "source": [
    "# low dimention images \n",
    "\n",
    "low_dimension_images = []\n",
    "high_dimension_images = []\n",
    "\n",
    "for i in range(len(cropped_images_labeled)):\n",
    "    if (np.shape(cropped_images_labeled[i][1])[0] < width_fixed) | (np.shape(cropped_images_labeled[i][1])[1] < height_fixed):\n",
    "        low_dimension_images.append(cropped_images_labeled[i])\n",
    "    else:\n",
    "        high_dimension_images.append(cropped_images_labeled[i])\n",
    "\n",
    "print (np.shape(low_dimension_images))\n",
    "\n",
    "print (np.shape(high_dimension_images))\n",
    "\n",
    "print (np.shape(low_dimension_images)[0] + np.shape(high_dimension_images)[0])\n",
    "\n",
    "print (np.shape(cropped_images_labeled))\n",
    "\n"
   ]
  },
  {
   "cell_type": "code",
   "execution_count": 38,
   "metadata": {},
   "outputs": [
    {
     "name": "stdout",
     "output_type": "stream",
     "text": [
      "00:00:46.80\n"
     ]
    }
   ],
   "source": [
    "import time\n",
    "start = time.time()\n",
    "\n",
    "for i in range(len(low_dimension_images)):\n",
    "    low_dimension_images[i][1] = cv2.resize(low_dimension_images[i][1],(width_fixed,height_fixed), \\\n",
    "                                            interpolation = cv2.INTER_AREA)\n",
    "    low_dimension_images[i][1] = cv2.bilateralFilter(low_dimension_images[i][1],11, 21, 7)\n",
    "    \n",
    "for i in range(len(high_dimension_images)):\n",
    "    high_dimension_images[i][1] = cv2.resize(high_dimension_images[i][1],(width_fixed,height_fixed), \\\n",
    "                                            interpolation = cv2.INTER_CUBIC)\n",
    "    high_dimension_images[i][1] = cv2.bilateralFilter(high_dimension_images[i][1],11, 21, 7)\n",
    "\n",
    "end = time.time()\n",
    "hours, rem = divmod(end-start, 3600)\n",
    "minutes, seconds = divmod(rem, 60)\n",
    "print(\"{:0>2}:{:0>2}:{:05.2f}\".format(int(hours),int(minutes),seconds))\n"
   ]
  },
  {
   "cell_type": "code",
   "execution_count": 39,
   "metadata": {},
   "outputs": [],
   "source": [
    "for i in range(len(low_dimension_images)):\n",
    "    cv2.imwrite('.//Data//Test_images_after_crop//'+ low_dimension_images[i][0]+\".jpg\", low_dimension_images[i][1])\n"
   ]
  },
  {
   "cell_type": "code",
   "execution_count": 40,
   "metadata": {},
   "outputs": [],
   "source": [
    "for i in range(len(high_dimension_images)):\n",
    "    cv2.imwrite('.//Data//Test_images_after_crop//'+ high_dimension_images[i][0]+\".jpg\", high_dimension_images[i][1])\n",
    "    "
   ]
  },
  {
   "cell_type": "code",
   "execution_count": null,
   "metadata": {},
   "outputs": [],
   "source": [
    "################################################################################################"
   ]
  },
  {
   "cell_type": "code",
   "execution_count": 1,
   "metadata": {},
   "outputs": [],
   "source": [
    "import pandas as pd\n",
    "import numpy as np\n",
    "# import keras\n",
    "import tensorflow\n",
    "# from keras.models import Sequential\n",
    "# from keras.layers import Dense, Dropout, Flatten\n",
    "# from keras.layers import Conv2D, MaxPooling2D\n",
    "\n",
    "from tensorflow.keras.models import Model\n",
    "from tensorflow.keras.models import Sequential\n",
    "from tensorflow.keras.layers import BatchNormalization\n",
    "from tensorflow.keras.layers import AveragePooling2D\n",
    "from tensorflow.keras.layers import MaxPooling2D\n",
    "from tensorflow.keras.layers import Conv2D\n",
    "from tensorflow.keras.layers import Activation\n",
    "from tensorflow.keras.layers import Dropout\n",
    "from tensorflow.keras.layers import Flatten\n",
    "from tensorflow.keras.layers import Input\n",
    "from tensorflow.keras.layers import Dense\n",
    "from tensorflow.keras.layers import concatenate\n",
    "from tensorflow.keras.layers import Lambda\n",
    "\n",
    "from tensorflow.keras.layers import Softmax\n",
    "from tensorflow.keras.models import load_model\n",
    "\n",
    "from tensorflow.keras.layers import LeakyReLU\n",
    "\n",
    "import cv2\n",
    "import numpy\n",
    "import glob\n",
    "import pylab as plt\n",
    "import multiprocessing\n",
    "from joblib import Parallel, delayed\n",
    "from tqdm import tqdm\n",
    "import math\n",
    "from  tensorflow.keras.callbacks import EarlyStopping\n",
    "\n",
    "import sklearn\n",
    "\n",
    "import pickle\n",
    "\n",
    "import matplotlib.pyplot as plt\n",
    "import numpy as np\n",
    "%matplotlib inline\n",
    "from sklearn.model_selection import train_test_split\n",
    "\n",
    "\n",
    "pd.options.display.max_columns = None\n",
    "pd.options.display.max_rows = None"
   ]
  },
  {
   "cell_type": "code",
   "execution_count": 2,
   "metadata": {},
   "outputs": [],
   "source": [
    "# from tensorflow.keras.layers import LeakyReLU\n",
    "import tensorflow\n",
    "model = tensorflow.keras.models.load_model('model_test_v4.h5', custom_objects={'LeakyReLU': LeakyReLU})\n",
    "\n",
    "# model = tensorflow.keras.models.load_model('model_CE_15_epochs_64_BS_softmax_CE.h5', custom_objects={'LeakyReLU': LeakyReLU})"
   ]
  },
  {
   "cell_type": "code",
   "execution_count": 3,
   "metadata": {},
   "outputs": [
    {
     "name": "stdout",
     "output_type": "stream",
     "text": [
      "Model: \"sequential\"\n",
      "_________________________________________________________________\n",
      "Layer (type)                 Output Shape              Param #   \n",
      "=================================================================\n",
      "conv2d (Conv2D)              (None, 248, 248, 16)      448       \n",
      "_________________________________________________________________\n",
      "activation (Activation)      (None, 248, 248, 16)      0         \n",
      "_________________________________________________________________\n",
      "max_pooling2d (MaxPooling2D) (None, 124, 124, 16)      0         \n",
      "_________________________________________________________________\n",
      "dropout (Dropout)            (None, 124, 124, 16)      0         \n",
      "_________________________________________________________________\n",
      "conv2d_1 (Conv2D)            (None, 122, 122, 32)      4640      \n",
      "_________________________________________________________________\n",
      "max_pooling2d_1 (MaxPooling2 (None, 61, 61, 32)        0         \n",
      "_________________________________________________________________\n",
      "dropout_1 (Dropout)          (None, 61, 61, 32)        0         \n",
      "_________________________________________________________________\n",
      "conv2d_2 (Conv2D)            (None, 59, 59, 64)        18496     \n",
      "_________________________________________________________________\n",
      "activation_1 (Activation)    (None, 59, 59, 64)        0         \n",
      "_________________________________________________________________\n",
      "max_pooling2d_2 (MaxPooling2 (None, 29, 29, 64)        0         \n",
      "_________________________________________________________________\n",
      "flatten (Flatten)            (None, 53824)             0         \n",
      "_________________________________________________________________\n",
      "dense (Dense)                (None, 128)               6889600   \n",
      "_________________________________________________________________\n",
      "dense_1 (Dense)              (None, 64)                8256      \n",
      "_________________________________________________________________\n",
      "activation_2 (Activation)    (None, 64)                0         \n",
      "_________________________________________________________________\n",
      "dropout_2 (Dropout)          (None, 64)                0         \n",
      "_________________________________________________________________\n",
      "dense_2 (Dense)              (None, 32)                2080      \n",
      "_________________________________________________________________\n",
      "dense_3 (Dense)              (None, 9)                 297       \n",
      "=================================================================\n",
      "Total params: 6,923,817\n",
      "Trainable params: 6,923,817\n",
      "Non-trainable params: 0\n",
      "_________________________________________________________________\n"
     ]
    }
   ],
   "source": [
    "model.summary()\n"
   ]
  },
  {
   "cell_type": "code",
   "execution_count": 17,
   "metadata": {},
   "outputs": [
    {
     "data": {
      "text/plain": [
       "2679"
      ]
     },
     "execution_count": 17,
     "metadata": {},
     "output_type": "execute_result"
    }
   ],
   "source": [
    "folders = glob.glob('.//Data//Test_images_after_crop//')\n",
    "imagenames_list = []\n",
    "\n",
    "for folder in folders:\n",
    "    for f in glob.glob(folder+'/*.jpg'):\n",
    "#         if f in image_names:\n",
    "        imagenames_list.append(f)\n",
    "len(imagenames_list)"
   ]
  },
  {
   "cell_type": "code",
   "execution_count": 18,
   "metadata": {},
   "outputs": [
    {
     "data": {
      "text/plain": [
       "'.//Data//Test_images_after_crop/bb81806ad6cff4552d4f1e74176c18ba-blackdot.jpg'"
      ]
     },
     "execution_count": 18,
     "metadata": {},
     "output_type": "execute_result"
    }
   ],
   "source": [
    "imagenames_list[1]"
   ]
  },
  {
   "cell_type": "code",
   "execution_count": 21,
   "metadata": {},
   "outputs": [
    {
     "name": "stdout",
     "output_type": "stream",
     "text": [
      "143841dfb41b8ef1dcf41f9494af993b-black.jpg\n",
      "bb81806ad6cff4552d4f1e74176c18ba-blackdot.jpg\n",
      "2364884bd20067465043d120ad544959-mustard.jpg\n",
      "a8294e16fccfe1cd0fe4a326f4d38056-blackmulti.jpg\n",
      "586f5d34a73ec0efe69979df08cf02b4-1.jpg\n",
      "959cceb7eef2986131cff1c04d497066-emberwhite.jpg\n",
      "51ca03d14660998fd726cf0348637af6-blackwhite.jpg\n",
      "1d8d481b1bc5e7eba29d7197867a252d-black.jpg\n",
      "e4f9f8c71b622aae59ff435fa5633ab2-blue.jpg\n",
      "8072e375d9727653c1aac676987dfa0a-yellow.jpg\n",
      "8d4b0e3a6a9b6a53a502d7f2e839d500-bluemulti.jpg\n",
      "85ed0678922baa8d5ef276c4e6dff3bd-whiteblackdot.jpg\n"
     ]
    }
   ],
   "source": [
    "for batch_sample in imagenames_list[0:12]:\n",
    "    print (str(batch_sample).replace(\".//Data//Test_images_after_crop/\", \"\"))"
   ]
  },
  {
   "cell_type": "code",
   "execution_count": 86,
   "metadata": {},
   "outputs": [],
   "source": [
    "\n",
    "# def processInput(image):\n",
    "# num_cores = multiprocessing.cpu_count() - 2\n",
    "# num_cores\n",
    "\n",
    "# i = 0\n",
    "# test_images_Predict = []\n",
    "# test_labels = []\n",
    "\n",
    "# for batch_sample in imagenames_list:\n",
    "    \n",
    "# #     print (batch_sample)\n",
    "#     image = cv2.imread(batch_sample)\n",
    "#     b,g,r = cv2.split(image)       # get b,g,r\n",
    "#     image = cv2.merge([r,g,b]) \n",
    "\n",
    "#     image = (image/255.0) - 0.5\n",
    "#     proba_11 = model.predict(image.reshape(1,250,250,3))\n",
    "  \n",
    "#     test_images_Predict.append([str(batch_sample).replace(\".//Data//Test_images_after_crop/\", \"\"), proba_11])\n",
    "#     i +=1\n",
    "#     if (i % 100==0): \n",
    "        \n",
    "#         print (i)"
   ]
  },
  {
   "cell_type": "code",
   "execution_count": 88,
   "metadata": {},
   "outputs": [
    {
     "name": "stdout",
     "output_type": "stream",
     "text": [
      "500\n",
      "1000\n",
      "1500\n",
      "2000\n",
      "2500\n"
     ]
    }
   ],
   "source": [
    "import time\n",
    "start = time.time()\n",
    "\n",
    "i = 0\n",
    "test_images_Predict = []\n",
    "\n",
    "for batch_sample in imagenames_list:\n",
    "#     print (batch_sample)\n",
    "    image = cv2.imread(batch_sample)\n",
    "    b,g,r = cv2.split(image)       # get b,g,r\n",
    "    image = cv2.merge([r,g,b]) \n",
    "\n",
    "    image = (image/255.0) - 0.5\n",
    "    proba_11 = model.predict(image.reshape(1,250,250,3))\n",
    "  \n",
    "    test_images_Predict.append([str(batch_sample).replace(\".//Data//Test_images_after_crop/\", \"\"), proba_11])\n",
    "    i += 1\n",
    "    if (i % 500==0): \n",
    "        print (i)\n",
    "end = time.time()\n",
    "hours, rem = divmod(end-start, 3600)\n",
    "minutes, seconds = divmod(rem, 60)\n",
    "print(\"{:0>2}:{:0>2}:{:05.2f}\".format(int(hours),int(minutes),seconds))"
   ]
  },
  {
   "cell_type": "code",
   "execution_count": 89,
   "metadata": {},
   "outputs": [
    {
     "data": {
      "text/plain": [
       "2679"
      ]
     },
     "execution_count": 89,
     "metadata": {},
     "output_type": "execute_result"
    }
   ],
   "source": [
    "len(test_images_Predict)"
   ]
  },
  {
   "cell_type": "code",
   "execution_count": 90,
   "metadata": {},
   "outputs": [
    {
     "data": {
      "text/plain": [
       "['bb81806ad6cff4552d4f1e74176c18ba-blackdot.jpg',\n",
       " array([[9.3311071e-05, 9.9986142e-01, 5.4627657e-05, 0.0000000e+00,\n",
       "         0.0000000e+00, 0.0000000e+00, 2.0861626e-07, 1.0000000e+00,\n",
       "         0.0000000e+00]], dtype=float32)]"
      ]
     },
     "execution_count": 90,
     "metadata": {},
     "output_type": "execute_result"
    }
   ],
   "source": [
    "test_images_Predict[1]"
   ]
  },
  {
   "cell_type": "code",
   "execution_count": 91,
   "metadata": {},
   "outputs": [
    {
     "data": {
      "text/plain": [
       "'bb81806ad6cff4552d4f1e74176c18ba-blackdot.jpg'"
      ]
     },
     "execution_count": 91,
     "metadata": {},
     "output_type": "execute_result"
    }
   ],
   "source": [
    "test_images_Predict[1][0]"
   ]
  },
  {
   "cell_type": "code",
   "execution_count": 92,
   "metadata": {},
   "outputs": [
    {
     "data": {
      "text/plain": [
       "array([[9.3311071e-05, 9.9986142e-01, 5.4627657e-05, 0.0000000e+00,\n",
       "        0.0000000e+00, 0.0000000e+00, 2.0861626e-07, 1.0000000e+00,\n",
       "        0.0000000e+00]], dtype=float32)"
      ]
     },
     "execution_count": 92,
     "metadata": {},
     "output_type": "execute_result"
    }
   ],
   "source": [
    "test_images_Predict[1][1]"
   ]
  },
  {
   "cell_type": "code",
   "execution_count": 93,
   "metadata": {},
   "outputs": [
    {
     "data": {
      "text/plain": [
       "array([9.3311071e-05, 9.9986142e-01, 5.4627657e-05, 0.0000000e+00,\n",
       "       0.0000000e+00, 0.0000000e+00, 2.0861626e-07, 1.0000000e+00,\n",
       "       0.0000000e+00], dtype=float32)"
      ]
     },
     "execution_count": 93,
     "metadata": {},
     "output_type": "execute_result"
    }
   ],
   "source": [
    "test_images_Predict[1][1][0]"
   ]
  },
  {
   "cell_type": "code",
   "execution_count": 94,
   "metadata": {},
   "outputs": [
    {
     "data": {
      "text/plain": [
       "0.0"
      ]
     },
     "execution_count": 94,
     "metadata": {},
     "output_type": "execute_result"
    }
   ],
   "source": [
    "test_images_Predict[1][1][0][8]"
   ]
  },
  {
   "cell_type": "code",
   "execution_count": 95,
   "metadata": {},
   "outputs": [],
   "source": [
    "\n",
    "temp = []\n",
    "for i in range(len(test_images_Predict)):\n",
    "    temp_dataframe = pd.DataFrame(columns=['filename', 'Blouses', 'Dresses', 'Skirts', 'camouflage', 'check', 'floral_print', 'leopard_print',\\\n",
    "                                  'polka_dot', 'stripe'])\n",
    "    \n",
    "    \n",
    "    temp.append([test_images_Predict[i][0],     \n",
    "               test_images_Predict[i][1][0][0],\n",
    "               test_images_Predict[i][1][0][1],\n",
    "               test_images_Predict[i][1][0][2],\n",
    "               test_images_Predict[i][1][0][3],\n",
    "               test_images_Predict[i][1][0][4],\n",
    "               test_images_Predict[i][1][0][5],\n",
    "               test_images_Predict[i][1][0][6],\n",
    "               test_images_Predict[i][1][0][7],\n",
    "               test_images_Predict[i][1][0][8]])\n",
    "    \n",
    "    \n",
    "    "
   ]
  },
  {
   "cell_type": "code",
   "execution_count": 101,
   "metadata": {},
   "outputs": [],
   "source": [
    "final_prediction = pd.DataFrame(temp,columns=['filename', 'Blouses', 'Dresses', 'Skirts', 'camouflage', 'check', 'floral_print', 'leopard_print',\\\n",
    "                                  'polka_dot', 'stripe'])"
   ]
  },
  {
   "cell_type": "code",
   "execution_count": 102,
   "metadata": {},
   "outputs": [
    {
     "data": {
      "text/plain": [
       "(2679, 10)"
      ]
     },
     "execution_count": 102,
     "metadata": {},
     "output_type": "execute_result"
    }
   ],
   "source": [
    "final_prediction.shape"
   ]
  },
  {
   "cell_type": "code",
   "execution_count": 103,
   "metadata": {},
   "outputs": [
    {
     "data": {
      "text/html": [
       "<div>\n",
       "<style scoped>\n",
       "    .dataframe tbody tr th:only-of-type {\n",
       "        vertical-align: middle;\n",
       "    }\n",
       "\n",
       "    .dataframe tbody tr th {\n",
       "        vertical-align: top;\n",
       "    }\n",
       "\n",
       "    .dataframe thead th {\n",
       "        text-align: right;\n",
       "    }\n",
       "</style>\n",
       "<table border=\"1\" class=\"dataframe\">\n",
       "  <thead>\n",
       "    <tr style=\"text-align: right;\">\n",
       "      <th></th>\n",
       "      <th>filename</th>\n",
       "      <th>Blouses</th>\n",
       "      <th>Dresses</th>\n",
       "      <th>Skirts</th>\n",
       "      <th>camouflage</th>\n",
       "      <th>check</th>\n",
       "      <th>floral_print</th>\n",
       "      <th>leopard_print</th>\n",
       "      <th>polka_dot</th>\n",
       "      <th>stripe</th>\n",
       "    </tr>\n",
       "  </thead>\n",
       "  <tbody>\n",
       "    <tr>\n",
       "      <td>0</td>\n",
       "      <td>143841dfb41b8ef1dcf41f9494af993b-black.jpg</td>\n",
       "      <td>0.812285</td>\n",
       "      <td>0.105388</td>\n",
       "      <td>0.154760</td>\n",
       "      <td>5.786425e-02</td>\n",
       "      <td>0.127440</td>\n",
       "      <td>0.091835</td>\n",
       "      <td>4.984143e-02</td>\n",
       "      <td>0.058616</td>\n",
       "      <td>0.728991</td>\n",
       "    </tr>\n",
       "    <tr>\n",
       "      <td>1</td>\n",
       "      <td>bb81806ad6cff4552d4f1e74176c18ba-blackdot.jpg</td>\n",
       "      <td>0.000093</td>\n",
       "      <td>0.999861</td>\n",
       "      <td>0.000055</td>\n",
       "      <td>0.000000e+00</td>\n",
       "      <td>0.000000</td>\n",
       "      <td>0.000000</td>\n",
       "      <td>2.086163e-07</td>\n",
       "      <td>1.000000</td>\n",
       "      <td>0.000000</td>\n",
       "    </tr>\n",
       "    <tr>\n",
       "      <td>2</td>\n",
       "      <td>2364884bd20067465043d120ad544959-mustard.jpg</td>\n",
       "      <td>0.243738</td>\n",
       "      <td>0.621038</td>\n",
       "      <td>0.126217</td>\n",
       "      <td>2.028644e-04</td>\n",
       "      <td>0.032935</td>\n",
       "      <td>0.001463</td>\n",
       "      <td>8.467138e-04</td>\n",
       "      <td>0.005969</td>\n",
       "      <td>0.935587</td>\n",
       "    </tr>\n",
       "    <tr>\n",
       "      <td>3</td>\n",
       "      <td>a8294e16fccfe1cd0fe4a326f4d38056-blackmulti.jpg</td>\n",
       "      <td>0.055753</td>\n",
       "      <td>0.842316</td>\n",
       "      <td>0.087247</td>\n",
       "      <td>9.536743e-07</td>\n",
       "      <td>0.994070</td>\n",
       "      <td>0.000039</td>\n",
       "      <td>1.409948e-04</td>\n",
       "      <td>0.001301</td>\n",
       "      <td>0.002811</td>\n",
       "    </tr>\n",
       "    <tr>\n",
       "      <td>4</td>\n",
       "      <td>586f5d34a73ec0efe69979df08cf02b4-1.jpg</td>\n",
       "      <td>0.024571</td>\n",
       "      <td>0.107302</td>\n",
       "      <td>0.861007</td>\n",
       "      <td>7.404807e-02</td>\n",
       "      <td>0.226180</td>\n",
       "      <td>0.246811</td>\n",
       "      <td>1.096816e-01</td>\n",
       "      <td>0.197786</td>\n",
       "      <td>0.323145</td>\n",
       "    </tr>\n",
       "  </tbody>\n",
       "</table>\n",
       "</div>"
      ],
      "text/plain": [
       "                                          filename   Blouses   Dresses  \\\n",
       "0       143841dfb41b8ef1dcf41f9494af993b-black.jpg  0.812285  0.105388   \n",
       "1    bb81806ad6cff4552d4f1e74176c18ba-blackdot.jpg  0.000093  0.999861   \n",
       "2     2364884bd20067465043d120ad544959-mustard.jpg  0.243738  0.621038   \n",
       "3  a8294e16fccfe1cd0fe4a326f4d38056-blackmulti.jpg  0.055753  0.842316   \n",
       "4           586f5d34a73ec0efe69979df08cf02b4-1.jpg  0.024571  0.107302   \n",
       "\n",
       "     Skirts    camouflage     check  floral_print  leopard_print  polka_dot  \\\n",
       "0  0.154760  5.786425e-02  0.127440      0.091835   4.984143e-02   0.058616   \n",
       "1  0.000055  0.000000e+00  0.000000      0.000000   2.086163e-07   1.000000   \n",
       "2  0.126217  2.028644e-04  0.032935      0.001463   8.467138e-04   0.005969   \n",
       "3  0.087247  9.536743e-07  0.994070      0.000039   1.409948e-04   0.001301   \n",
       "4  0.861007  7.404807e-02  0.226180      0.246811   1.096816e-01   0.197786   \n",
       "\n",
       "     stripe  \n",
       "0  0.728991  \n",
       "1  0.000000  \n",
       "2  0.935587  \n",
       "3  0.002811  \n",
       "4  0.323145  "
      ]
     },
     "execution_count": 103,
     "metadata": {},
     "output_type": "execute_result"
    }
   ],
   "source": [
    "final_prediction.head()"
   ]
  },
  {
   "cell_type": "code",
   "execution_count": 105,
   "metadata": {},
   "outputs": [
    {
     "data": {
      "text/plain": [
       "['bb81806ad6cff4552d4f1e74176c18ba-blackdot.jpg',\n",
       " array([[9.3311071e-05, 9.9986142e-01, 5.4627657e-05, 0.0000000e+00,\n",
       "         0.0000000e+00, 0.0000000e+00, 2.0861626e-07, 1.0000000e+00,\n",
       "         0.0000000e+00]], dtype=float32)]"
      ]
     },
     "execution_count": 105,
     "metadata": {},
     "output_type": "execute_result"
    }
   ],
   "source": [
    "test_images_Predict[1]"
   ]
  },
  {
   "cell_type": "code",
   "execution_count": 106,
   "metadata": {},
   "outputs": [],
   "source": [
    "final_prediction[\"product_type\"] = final_prediction[['Blouses', 'Dresses', 'Skirts']].idxmax(axis=1)\n",
    "final_prediction[\"fabric_print_type\"] = final_prediction[['camouflage', 'check', 'floral_print', 'leopard_print',\\\n",
    "                                  'polka_dot', 'stripe']].idxmax(axis=1)"
   ]
  },
  {
   "cell_type": "code",
   "execution_count": 107,
   "metadata": {},
   "outputs": [
    {
     "data": {
      "text/html": [
       "<div>\n",
       "<style scoped>\n",
       "    .dataframe tbody tr th:only-of-type {\n",
       "        vertical-align: middle;\n",
       "    }\n",
       "\n",
       "    .dataframe tbody tr th {\n",
       "        vertical-align: top;\n",
       "    }\n",
       "\n",
       "    .dataframe thead th {\n",
       "        text-align: right;\n",
       "    }\n",
       "</style>\n",
       "<table border=\"1\" class=\"dataframe\">\n",
       "  <thead>\n",
       "    <tr style=\"text-align: right;\">\n",
       "      <th></th>\n",
       "      <th>filename</th>\n",
       "      <th>Blouses</th>\n",
       "      <th>Dresses</th>\n",
       "      <th>Skirts</th>\n",
       "      <th>camouflage</th>\n",
       "      <th>check</th>\n",
       "      <th>floral_print</th>\n",
       "      <th>leopard_print</th>\n",
       "      <th>polka_dot</th>\n",
       "      <th>stripe</th>\n",
       "      <th>product_type</th>\n",
       "      <th>fabric_print_type</th>\n",
       "    </tr>\n",
       "  </thead>\n",
       "  <tbody>\n",
       "    <tr>\n",
       "      <td>0</td>\n",
       "      <td>143841dfb41b8ef1dcf41f9494af993b-black.jpg</td>\n",
       "      <td>0.812285</td>\n",
       "      <td>0.105388</td>\n",
       "      <td>0.154760</td>\n",
       "      <td>5.786425e-02</td>\n",
       "      <td>0.127440</td>\n",
       "      <td>0.091835</td>\n",
       "      <td>4.984143e-02</td>\n",
       "      <td>0.058616</td>\n",
       "      <td>0.728991</td>\n",
       "      <td>Blouses</td>\n",
       "      <td>stripe</td>\n",
       "    </tr>\n",
       "    <tr>\n",
       "      <td>1</td>\n",
       "      <td>bb81806ad6cff4552d4f1e74176c18ba-blackdot.jpg</td>\n",
       "      <td>0.000093</td>\n",
       "      <td>0.999861</td>\n",
       "      <td>0.000055</td>\n",
       "      <td>0.000000e+00</td>\n",
       "      <td>0.000000</td>\n",
       "      <td>0.000000</td>\n",
       "      <td>2.086163e-07</td>\n",
       "      <td>1.000000</td>\n",
       "      <td>0.000000</td>\n",
       "      <td>Dresses</td>\n",
       "      <td>polka_dot</td>\n",
       "    </tr>\n",
       "    <tr>\n",
       "      <td>2</td>\n",
       "      <td>2364884bd20067465043d120ad544959-mustard.jpg</td>\n",
       "      <td>0.243738</td>\n",
       "      <td>0.621038</td>\n",
       "      <td>0.126217</td>\n",
       "      <td>2.028644e-04</td>\n",
       "      <td>0.032935</td>\n",
       "      <td>0.001463</td>\n",
       "      <td>8.467138e-04</td>\n",
       "      <td>0.005969</td>\n",
       "      <td>0.935587</td>\n",
       "      <td>Dresses</td>\n",
       "      <td>stripe</td>\n",
       "    </tr>\n",
       "    <tr>\n",
       "      <td>3</td>\n",
       "      <td>a8294e16fccfe1cd0fe4a326f4d38056-blackmulti.jpg</td>\n",
       "      <td>0.055753</td>\n",
       "      <td>0.842316</td>\n",
       "      <td>0.087247</td>\n",
       "      <td>9.536743e-07</td>\n",
       "      <td>0.994070</td>\n",
       "      <td>0.000039</td>\n",
       "      <td>1.409948e-04</td>\n",
       "      <td>0.001301</td>\n",
       "      <td>0.002811</td>\n",
       "      <td>Dresses</td>\n",
       "      <td>check</td>\n",
       "    </tr>\n",
       "    <tr>\n",
       "      <td>4</td>\n",
       "      <td>586f5d34a73ec0efe69979df08cf02b4-1.jpg</td>\n",
       "      <td>0.024571</td>\n",
       "      <td>0.107302</td>\n",
       "      <td>0.861007</td>\n",
       "      <td>7.404807e-02</td>\n",
       "      <td>0.226180</td>\n",
       "      <td>0.246811</td>\n",
       "      <td>1.096816e-01</td>\n",
       "      <td>0.197786</td>\n",
       "      <td>0.323145</td>\n",
       "      <td>Skirts</td>\n",
       "      <td>stripe</td>\n",
       "    </tr>\n",
       "  </tbody>\n",
       "</table>\n",
       "</div>"
      ],
      "text/plain": [
       "                                          filename   Blouses   Dresses  \\\n",
       "0       143841dfb41b8ef1dcf41f9494af993b-black.jpg  0.812285  0.105388   \n",
       "1    bb81806ad6cff4552d4f1e74176c18ba-blackdot.jpg  0.000093  0.999861   \n",
       "2     2364884bd20067465043d120ad544959-mustard.jpg  0.243738  0.621038   \n",
       "3  a8294e16fccfe1cd0fe4a326f4d38056-blackmulti.jpg  0.055753  0.842316   \n",
       "4           586f5d34a73ec0efe69979df08cf02b4-1.jpg  0.024571  0.107302   \n",
       "\n",
       "     Skirts    camouflage     check  floral_print  leopard_print  polka_dot  \\\n",
       "0  0.154760  5.786425e-02  0.127440      0.091835   4.984143e-02   0.058616   \n",
       "1  0.000055  0.000000e+00  0.000000      0.000000   2.086163e-07   1.000000   \n",
       "2  0.126217  2.028644e-04  0.032935      0.001463   8.467138e-04   0.005969   \n",
       "3  0.087247  9.536743e-07  0.994070      0.000039   1.409948e-04   0.001301   \n",
       "4  0.861007  7.404807e-02  0.226180      0.246811   1.096816e-01   0.197786   \n",
       "\n",
       "     stripe product_type fabric_print_type  \n",
       "0  0.728991      Blouses            stripe  \n",
       "1  0.000000      Dresses         polka_dot  \n",
       "2  0.935587      Dresses            stripe  \n",
       "3  0.002811      Dresses             check  \n",
       "4  0.323145       Skirts            stripe  "
      ]
     },
     "execution_count": 107,
     "metadata": {},
     "output_type": "execute_result"
    }
   ],
   "source": [
    "final_prediction.head()\n"
   ]
  },
  {
   "cell_type": "code",
   "execution_count": 108,
   "metadata": {},
   "outputs": [],
   "source": [
    "final_prediction.to_csv(\"CaseStudyFinalTestPredctionScore.csv\", index = False)"
   ]
  },
  {
   "cell_type": "code",
   "execution_count": null,
   "metadata": {},
   "outputs": [],
   "source": []
  }
 ],
 "metadata": {
  "kernelspec": {
   "display_name": "Python 3",
   "language": "python",
   "name": "python3"
  },
  "language_info": {
   "codemirror_mode": {
    "name": "ipython",
    "version": 3
   },
   "file_extension": ".py",
   "mimetype": "text/x-python",
   "name": "python",
   "nbconvert_exporter": "python",
   "pygments_lexer": "ipython3",
   "version": "3.7.4"
  }
 },
 "nbformat": 4,
 "nbformat_minor": 4
}
