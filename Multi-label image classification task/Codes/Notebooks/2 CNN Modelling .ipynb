{
 "cells": [
  {
   "cell_type": "code",
   "execution_count": 1,
   "metadata": {
    "colab": {},
    "colab_type": "code",
    "id": "CzB4KpYt8qh1"
   },
   "outputs": [],
   "source": [
    "#  !wget 'http://lfl-dsa-casestudy.s3.amazonaws.com/ImageClassification/DataSet.tar.gz'"
   ]
  },
  {
   "cell_type": "code",
   "execution_count": 2,
   "metadata": {
    "colab": {},
    "colab_type": "code",
    "id": "sFS6xNro_J9t"
   },
   "outputs": [],
   "source": [
    "#  !tar -xvf DataSet.tar.gz"
   ]
  },
  {
   "cell_type": "code",
   "execution_count": 3,
   "metadata": {
    "colab": {},
    "colab_type": "code",
    "id": "geoP_lm6KFw_"
   },
   "outputs": [],
   "source": [
    "# %tensorflow_version 1.x"
   ]
  },
  {
   "cell_type": "code",
   "execution_count": 4,
   "metadata": {
    "colab": {},
    "colab_type": "code",
    "id": "ozfjKuhCKL8p"
   },
   "outputs": [],
   "source": [
    "# import tensorflow"
   ]
  },
  {
   "cell_type": "code",
   "execution_count": 5,
   "metadata": {
    "colab": {},
    "colab_type": "code",
    "id": "IGdfMKCBCZsE"
   },
   "outputs": [],
   "source": [
    "import pandas as pd\n",
    "import numpy as np\n",
    "# import keras\n",
    "import tensorflow\n",
    "# from keras.models import Sequential\n",
    "# from keras.layers import Dense, Dropout, Flatten\n",
    "# from keras.layers import Conv2D, MaxPooling2D\n",
    "\n",
    "from tensorflow.keras.models import Model\n",
    "from tensorflow.keras.models import Sequential\n",
    "from tensorflow.keras.layers import BatchNormalization\n",
    "from tensorflow.keras.layers import AveragePooling2D\n",
    "from tensorflow.keras.layers import MaxPooling2D\n",
    "from tensorflow.keras.layers import Conv2D\n",
    "from tensorflow.keras.layers import Activation\n",
    "from tensorflow.keras.layers import Dropout\n",
    "from tensorflow.keras.layers import Flatten\n",
    "from tensorflow.keras.layers import Input\n",
    "from tensorflow.keras.layers import Dense\n",
    "from tensorflow.keras.layers import concatenate\n",
    "from tensorflow.keras.layers import Lambda\n",
    "\n",
    "from tensorflow.keras.layers import Softmax\n",
    "from tensorflow.keras.models import load_model\n",
    "\n",
    "from tensorflow.keras.layers import LeakyReLU\n",
    "\n",
    "import cv2\n",
    "import numpy\n",
    "import glob\n",
    "import pylab as plt\n",
    "import multiprocessing\n",
    "from joblib import Parallel, delayed\n",
    "from tqdm import tqdm\n",
    "import math\n",
    "\n",
    "import sklearn\n",
    "\n",
    "import pickle\n",
    "\n",
    "import matplotlib.pyplot as plt\n",
    "import numpy as np\n",
    "%matplotlib inline\n",
    "from sklearn.model_selection import train_test_split\n",
    "\n",
    "\n",
    "pd.options.display.max_columns = None\n",
    "pd.options.display.max_rows = None"
   ]
  },
  {
   "cell_type": "code",
   "execution_count": 6,
   "metadata": {
    "colab": {},
    "colab_type": "code",
    "id": "mYZ-j-GUDBIw"
   },
   "outputs": [],
   "source": [
    "image_labels_positions = pd.read_csv(\"final_data_backup_v1.csv\")"
   ]
  },
  {
   "cell_type": "code",
   "execution_count": 7,
   "metadata": {
    "colab": {
     "base_uri": "https://localhost:8080/",
     "height": 34
    },
    "colab_type": "code",
    "id": "luw4EvqmDcQe",
    "outputId": "8bf80da9-6c1e-43af-ddeb-027cb12b31a6"
   },
   "outputs": [
    {
     "data": {
      "text/plain": [
       "(37650, 16)"
      ]
     },
     "execution_count": 7,
     "metadata": {},
     "output_type": "execute_result"
    }
   ],
   "source": [
    "image_labels_positions.shape"
   ]
  },
  {
   "cell_type": "code",
   "execution_count": 8,
   "metadata": {
    "colab": {
     "base_uri": "https://localhost:8080/",
     "height": 316
    },
    "colab_type": "code",
    "id": "NzWpSfeENXjc",
    "outputId": "49221374-2e86-410f-8bf8-bd1aa04c48f5"
   },
   "outputs": [
    {
     "data": {
      "text/html": [
       "<div>\n",
       "<style scoped>\n",
       "    .dataframe tbody tr th:only-of-type {\n",
       "        vertical-align: middle;\n",
       "    }\n",
       "\n",
       "    .dataframe tbody tr th {\n",
       "        vertical-align: top;\n",
       "    }\n",
       "\n",
       "    .dataframe thead th {\n",
       "        text-align: right;\n",
       "    }\n",
       "</style>\n",
       "<table border=\"1\" class=\"dataframe\">\n",
       "  <thead>\n",
       "    <tr style=\"text-align: right;\">\n",
       "      <th></th>\n",
       "      <th>filename</th>\n",
       "      <th>x_min</th>\n",
       "      <th>y_min</th>\n",
       "      <th>x_max</th>\n",
       "      <th>y_max</th>\n",
       "      <th>product_type</th>\n",
       "      <th>fabric_print_type</th>\n",
       "      <th>Blouses</th>\n",
       "      <th>Dresses</th>\n",
       "      <th>Skirts</th>\n",
       "      <th>camouflage</th>\n",
       "      <th>check</th>\n",
       "      <th>floral print</th>\n",
       "      <th>leopard print</th>\n",
       "      <th>polka dot</th>\n",
       "      <th>stripe</th>\n",
       "    </tr>\n",
       "  </thead>\n",
       "  <tbody>\n",
       "    <tr>\n",
       "      <td>0</td>\n",
       "      <td>2c6038d030f7e52a5798e6e5734c8ded-1.jpg</td>\n",
       "      <td>357.0</td>\n",
       "      <td>141.0</td>\n",
       "      <td>734.0</td>\n",
       "      <td>753.0</td>\n",
       "      <td>Dresses</td>\n",
       "      <td>camouflage</td>\n",
       "      <td>0</td>\n",
       "      <td>1</td>\n",
       "      <td>0</td>\n",
       "      <td>1</td>\n",
       "      <td>0</td>\n",
       "      <td>0</td>\n",
       "      <td>0</td>\n",
       "      <td>0</td>\n",
       "      <td>0</td>\n",
       "    </tr>\n",
       "    <tr>\n",
       "      <td>1</td>\n",
       "      <td>89583cfdcde796b219f8655388777bbb-3.jpg</td>\n",
       "      <td>68.0</td>\n",
       "      <td>297.0</td>\n",
       "      <td>1037.0</td>\n",
       "      <td>1077.0</td>\n",
       "      <td>Dresses</td>\n",
       "      <td>camouflage</td>\n",
       "      <td>0</td>\n",
       "      <td>1</td>\n",
       "      <td>0</td>\n",
       "      <td>1</td>\n",
       "      <td>0</td>\n",
       "      <td>0</td>\n",
       "      <td>0</td>\n",
       "      <td>0</td>\n",
       "      <td>0</td>\n",
       "    </tr>\n",
       "    <tr>\n",
       "      <td>2</td>\n",
       "      <td>2e74a5870a81c24aa7fb5c86a228cf17-1.jpg</td>\n",
       "      <td>194.0</td>\n",
       "      <td>94.0</td>\n",
       "      <td>420.0</td>\n",
       "      <td>312.0</td>\n",
       "      <td>Blouses</td>\n",
       "      <td>check</td>\n",
       "      <td>1</td>\n",
       "      <td>0</td>\n",
       "      <td>0</td>\n",
       "      <td>0</td>\n",
       "      <td>1</td>\n",
       "      <td>0</td>\n",
       "      <td>0</td>\n",
       "      <td>0</td>\n",
       "      <td>0</td>\n",
       "    </tr>\n",
       "    <tr>\n",
       "      <td>3</td>\n",
       "      <td>bc70bcf7735186b955cae0af6a54c5c2-2.jpg</td>\n",
       "      <td>390.0</td>\n",
       "      <td>349.0</td>\n",
       "      <td>678.0</td>\n",
       "      <td>800.0</td>\n",
       "      <td>Blouses</td>\n",
       "      <td>check</td>\n",
       "      <td>1</td>\n",
       "      <td>0</td>\n",
       "      <td>0</td>\n",
       "      <td>0</td>\n",
       "      <td>1</td>\n",
       "      <td>0</td>\n",
       "      <td>0</td>\n",
       "      <td>0</td>\n",
       "      <td>0</td>\n",
       "    </tr>\n",
       "    <tr>\n",
       "      <td>4</td>\n",
       "      <td>10f2c35f45d4286d361e50b08649b890-1.jpg</td>\n",
       "      <td>216.0</td>\n",
       "      <td>347.0</td>\n",
       "      <td>439.0</td>\n",
       "      <td>659.0</td>\n",
       "      <td>Blouses</td>\n",
       "      <td>check</td>\n",
       "      <td>1</td>\n",
       "      <td>0</td>\n",
       "      <td>0</td>\n",
       "      <td>0</td>\n",
       "      <td>1</td>\n",
       "      <td>0</td>\n",
       "      <td>0</td>\n",
       "      <td>0</td>\n",
       "      <td>0</td>\n",
       "    </tr>\n",
       "  </tbody>\n",
       "</table>\n",
       "</div>"
      ],
      "text/plain": [
       "                                 filename  x_min  y_min   x_max   y_max  \\\n",
       "0  2c6038d030f7e52a5798e6e5734c8ded-1.jpg  357.0  141.0   734.0   753.0   \n",
       "1  89583cfdcde796b219f8655388777bbb-3.jpg   68.0  297.0  1037.0  1077.0   \n",
       "2  2e74a5870a81c24aa7fb5c86a228cf17-1.jpg  194.0   94.0   420.0   312.0   \n",
       "3  bc70bcf7735186b955cae0af6a54c5c2-2.jpg  390.0  349.0   678.0   800.0   \n",
       "4  10f2c35f45d4286d361e50b08649b890-1.jpg  216.0  347.0   439.0   659.0   \n",
       "\n",
       "  product_type fabric_print_type  Blouses  Dresses  Skirts  camouflage  check  \\\n",
       "0      Dresses        camouflage        0        1       0           1      0   \n",
       "1      Dresses        camouflage        0        1       0           1      0   \n",
       "2      Blouses             check        1        0       0           0      1   \n",
       "3      Blouses             check        1        0       0           0      1   \n",
       "4      Blouses             check        1        0       0           0      1   \n",
       "\n",
       "   floral print  leopard print  polka dot  stripe  \n",
       "0             0              0          0       0  \n",
       "1             0              0          0       0  \n",
       "2             0              0          0       0  \n",
       "3             0              0          0       0  \n",
       "4             0              0          0       0  "
      ]
     },
     "execution_count": 8,
     "metadata": {},
     "output_type": "execute_result"
    }
   ],
   "source": [
    "image_labels_positions['filename']=image_labels_positions['filename'] + '.jpg'\n",
    "image_labels_positions.head()"
   ]
  },
  {
   "cell_type": "code",
   "execution_count": 9,
   "metadata": {
    "colab": {},
    "colab_type": "code",
    "id": "Qgi3NvC-Dw1m"
   },
   "outputs": [],
   "source": [
    "image_names = list(image_labels_positions[\"filename\"].values)"
   ]
  },
  {
   "cell_type": "code",
   "execution_count": 10,
   "metadata": {
    "colab": {},
    "colab_type": "code",
    "id": "jxekyx2UD0oz"
   },
   "outputs": [],
   "source": [
    "folders = glob.glob('.//Data//ImageClassification//Train//')\n"
   ]
  },
  {
   "cell_type": "code",
   "execution_count": 11,
   "metadata": {
    "colab": {
     "base_uri": "https://localhost:8080/",
     "height": 316
    },
    "colab_type": "code",
    "id": "q7hkm6d64Qra",
    "outputId": "3b4a4e85-7ccc-4b2f-ee71-6e5c6a2f45a9"
   },
   "outputs": [
    {
     "data": {
      "text/html": [
       "<div>\n",
       "<style scoped>\n",
       "    .dataframe tbody tr th:only-of-type {\n",
       "        vertical-align: middle;\n",
       "    }\n",
       "\n",
       "    .dataframe tbody tr th {\n",
       "        vertical-align: top;\n",
       "    }\n",
       "\n",
       "    .dataframe thead th {\n",
       "        text-align: right;\n",
       "    }\n",
       "</style>\n",
       "<table border=\"1\" class=\"dataframe\">\n",
       "  <thead>\n",
       "    <tr style=\"text-align: right;\">\n",
       "      <th></th>\n",
       "      <th>filename</th>\n",
       "      <th>x_min</th>\n",
       "      <th>y_min</th>\n",
       "      <th>x_max</th>\n",
       "      <th>y_max</th>\n",
       "      <th>product_type</th>\n",
       "      <th>fabric_print_type</th>\n",
       "      <th>Blouses</th>\n",
       "      <th>Dresses</th>\n",
       "      <th>Skirts</th>\n",
       "      <th>camouflage</th>\n",
       "      <th>check</th>\n",
       "      <th>floral print</th>\n",
       "      <th>leopard print</th>\n",
       "      <th>polka dot</th>\n",
       "      <th>stripe</th>\n",
       "      <th>product_fabric_print_type</th>\n",
       "    </tr>\n",
       "  </thead>\n",
       "  <tbody>\n",
       "    <tr>\n",
       "      <td>0</td>\n",
       "      <td>2c6038d030f7e52a5798e6e5734c8ded-1.jpg</td>\n",
       "      <td>357.0</td>\n",
       "      <td>141.0</td>\n",
       "      <td>734.0</td>\n",
       "      <td>753.0</td>\n",
       "      <td>Dresses</td>\n",
       "      <td>camouflage</td>\n",
       "      <td>0</td>\n",
       "      <td>1</td>\n",
       "      <td>0</td>\n",
       "      <td>1</td>\n",
       "      <td>0</td>\n",
       "      <td>0</td>\n",
       "      <td>0</td>\n",
       "      <td>0</td>\n",
       "      <td>0</td>\n",
       "      <td>Dresses camouflage</td>\n",
       "    </tr>\n",
       "    <tr>\n",
       "      <td>1</td>\n",
       "      <td>89583cfdcde796b219f8655388777bbb-3.jpg</td>\n",
       "      <td>68.0</td>\n",
       "      <td>297.0</td>\n",
       "      <td>1037.0</td>\n",
       "      <td>1077.0</td>\n",
       "      <td>Dresses</td>\n",
       "      <td>camouflage</td>\n",
       "      <td>0</td>\n",
       "      <td>1</td>\n",
       "      <td>0</td>\n",
       "      <td>1</td>\n",
       "      <td>0</td>\n",
       "      <td>0</td>\n",
       "      <td>0</td>\n",
       "      <td>0</td>\n",
       "      <td>0</td>\n",
       "      <td>Dresses camouflage</td>\n",
       "    </tr>\n",
       "    <tr>\n",
       "      <td>2</td>\n",
       "      <td>2e74a5870a81c24aa7fb5c86a228cf17-1.jpg</td>\n",
       "      <td>194.0</td>\n",
       "      <td>94.0</td>\n",
       "      <td>420.0</td>\n",
       "      <td>312.0</td>\n",
       "      <td>Blouses</td>\n",
       "      <td>check</td>\n",
       "      <td>1</td>\n",
       "      <td>0</td>\n",
       "      <td>0</td>\n",
       "      <td>0</td>\n",
       "      <td>1</td>\n",
       "      <td>0</td>\n",
       "      <td>0</td>\n",
       "      <td>0</td>\n",
       "      <td>0</td>\n",
       "      <td>Blouses check</td>\n",
       "    </tr>\n",
       "    <tr>\n",
       "      <td>3</td>\n",
       "      <td>bc70bcf7735186b955cae0af6a54c5c2-2.jpg</td>\n",
       "      <td>390.0</td>\n",
       "      <td>349.0</td>\n",
       "      <td>678.0</td>\n",
       "      <td>800.0</td>\n",
       "      <td>Blouses</td>\n",
       "      <td>check</td>\n",
       "      <td>1</td>\n",
       "      <td>0</td>\n",
       "      <td>0</td>\n",
       "      <td>0</td>\n",
       "      <td>1</td>\n",
       "      <td>0</td>\n",
       "      <td>0</td>\n",
       "      <td>0</td>\n",
       "      <td>0</td>\n",
       "      <td>Blouses check</td>\n",
       "    </tr>\n",
       "    <tr>\n",
       "      <td>4</td>\n",
       "      <td>10f2c35f45d4286d361e50b08649b890-1.jpg</td>\n",
       "      <td>216.0</td>\n",
       "      <td>347.0</td>\n",
       "      <td>439.0</td>\n",
       "      <td>659.0</td>\n",
       "      <td>Blouses</td>\n",
       "      <td>check</td>\n",
       "      <td>1</td>\n",
       "      <td>0</td>\n",
       "      <td>0</td>\n",
       "      <td>0</td>\n",
       "      <td>1</td>\n",
       "      <td>0</td>\n",
       "      <td>0</td>\n",
       "      <td>0</td>\n",
       "      <td>0</td>\n",
       "      <td>Blouses check</td>\n",
       "    </tr>\n",
       "  </tbody>\n",
       "</table>\n",
       "</div>"
      ],
      "text/plain": [
       "                                 filename  x_min  y_min   x_max   y_max  \\\n",
       "0  2c6038d030f7e52a5798e6e5734c8ded-1.jpg  357.0  141.0   734.0   753.0   \n",
       "1  89583cfdcde796b219f8655388777bbb-3.jpg   68.0  297.0  1037.0  1077.0   \n",
       "2  2e74a5870a81c24aa7fb5c86a228cf17-1.jpg  194.0   94.0   420.0   312.0   \n",
       "3  bc70bcf7735186b955cae0af6a54c5c2-2.jpg  390.0  349.0   678.0   800.0   \n",
       "4  10f2c35f45d4286d361e50b08649b890-1.jpg  216.0  347.0   439.0   659.0   \n",
       "\n",
       "  product_type fabric_print_type  Blouses  Dresses  Skirts  camouflage  check  \\\n",
       "0      Dresses        camouflage        0        1       0           1      0   \n",
       "1      Dresses        camouflage        0        1       0           1      0   \n",
       "2      Blouses             check        1        0       0           0      1   \n",
       "3      Blouses             check        1        0       0           0      1   \n",
       "4      Blouses             check        1        0       0           0      1   \n",
       "\n",
       "   floral print  leopard print  polka dot  stripe product_fabric_print_type  \n",
       "0             0              0          0       0        Dresses camouflage  \n",
       "1             0              0          0       0        Dresses camouflage  \n",
       "2             0              0          0       0             Blouses check  \n",
       "3             0              0          0       0             Blouses check  \n",
       "4             0              0          0       0             Blouses check  "
      ]
     },
     "execution_count": 11,
     "metadata": {},
     "output_type": "execute_result"
    }
   ],
   "source": [
    "image_labels_positions['product_fabric_print_type'] = image_labels_positions['product_type']+ ' ' + image_labels_positions['fabric_print_type']\n",
    "image_labels_positions.head(5)"
   ]
  },
  {
   "cell_type": "code",
   "execution_count": 12,
   "metadata": {},
   "outputs": [
    {
     "data": {
      "text/plain": [
       "<matplotlib.axes._subplots.AxesSubplot at 0x7fef02e44828>"
      ]
     },
     "execution_count": 12,
     "metadata": {},
     "output_type": "execute_result"
    },
    {
     "data": {
      "image/png": "[encoded data removed]",
      "text/plain": [
       "<Figure size 1296x360 with 1 Axes>"
      ]
     },
     "metadata": {
      "needs_background": "light"
     },
     "output_type": "display_data"
    }
   ],
   "source": [
    "import seaborn as sns\n",
    "\n",
    "plt.figure(figsize=(18,5))\n",
    "plt.xticks(rotation=45, horizontalalignment='right', fontweight='light', fontsize='x-large')\n",
    "\n",
    "sns.countplot(image_labels_positions['product_fabric_print_type'])\n",
    "\n"
   ]
  },
  {
   "cell_type": "code",
   "execution_count": 13,
   "metadata": {
    "colab": {
     "base_uri": "https://localhost:8080/",
     "height": 336
    },
    "colab_type": "code",
    "id": "I2soCFGw9U5G",
    "outputId": "e4ef1dae-b780-419e-9c2a-f214982c7a5e"
   },
   "outputs": [
    {
     "name": "stdout",
     "output_type": "stream",
     "text": [
      "Dresses floral print     3548\n",
      "Dresses stripe           3247\n",
      "Blouses floral print     3115\n",
      "Skirts check             2904\n",
      "Dresses polka dot        2839\n",
      "Skirts stripe            2837\n",
      "Dresses check            2807\n",
      "Skirts floral print      2766\n",
      "Blouses polka dot        2628\n",
      "Blouses stripe           2493\n",
      "Dresses leopard print    1935\n",
      "Skirts polka dot         1881\n",
      "Blouses check            1565\n",
      "Skirts leopard print     1456\n",
      "Blouses leopard print     932\n",
      "Skirts camouflage         326\n",
      "Dresses camouflage        274\n",
      "Blouses camouflage         97\n",
      "Name: product_fabric_print_type, dtype: int64\n"
     ]
    }
   ],
   "source": [
    "mergedLabels = image_labels_positions['product_fabric_print_type']\n",
    "temp1 = mergedLabels.value_counts()\n",
    "print(temp1)"
   ]
  },
  {
   "cell_type": "code",
   "execution_count": 14,
   "metadata": {
    "colab": {
     "base_uri": "https://localhost:8080/",
     "height": 580
    },
    "colab_type": "code",
    "id": "BxFgzj9qQCrs",
    "outputId": "44917b88-87c1-40a1-d2ee-73994051961b"
   },
   "outputs": [
    {
     "data": {
      "text/html": [
       "<div>\n",
       "<style scoped>\n",
       "    .dataframe tbody tr th:only-of-type {\n",
       "        vertical-align: middle;\n",
       "    }\n",
       "\n",
       "    .dataframe tbody tr th {\n",
       "        vertical-align: top;\n",
       "    }\n",
       "\n",
       "    .dataframe thead th {\n",
       "        text-align: right;\n",
       "    }\n",
       "</style>\n",
       "<table border=\"1\" class=\"dataframe\">\n",
       "  <thead>\n",
       "    <tr style=\"text-align: right;\">\n",
       "      <th></th>\n",
       "      <th>product_fabric_print_type</th>\n",
       "      <th>count</th>\n",
       "    </tr>\n",
       "  </thead>\n",
       "  <tbody>\n",
       "    <tr>\n",
       "      <td>0</td>\n",
       "      <td>Dresses floral print</td>\n",
       "      <td>3548</td>\n",
       "    </tr>\n",
       "    <tr>\n",
       "      <td>1</td>\n",
       "      <td>Dresses stripe</td>\n",
       "      <td>3247</td>\n",
       "    </tr>\n",
       "    <tr>\n",
       "      <td>2</td>\n",
       "      <td>Blouses floral print</td>\n",
       "      <td>3115</td>\n",
       "    </tr>\n",
       "    <tr>\n",
       "      <td>3</td>\n",
       "      <td>Skirts check</td>\n",
       "      <td>2904</td>\n",
       "    </tr>\n",
       "    <tr>\n",
       "      <td>4</td>\n",
       "      <td>Dresses polka dot</td>\n",
       "      <td>2839</td>\n",
       "    </tr>\n",
       "    <tr>\n",
       "      <td>5</td>\n",
       "      <td>Skirts stripe</td>\n",
       "      <td>2837</td>\n",
       "    </tr>\n",
       "    <tr>\n",
       "      <td>6</td>\n",
       "      <td>Dresses check</td>\n",
       "      <td>2807</td>\n",
       "    </tr>\n",
       "    <tr>\n",
       "      <td>7</td>\n",
       "      <td>Skirts floral print</td>\n",
       "      <td>2766</td>\n",
       "    </tr>\n",
       "    <tr>\n",
       "      <td>8</td>\n",
       "      <td>Blouses polka dot</td>\n",
       "      <td>2628</td>\n",
       "    </tr>\n",
       "    <tr>\n",
       "      <td>9</td>\n",
       "      <td>Blouses stripe</td>\n",
       "      <td>2493</td>\n",
       "    </tr>\n",
       "    <tr>\n",
       "      <td>10</td>\n",
       "      <td>Dresses leopard print</td>\n",
       "      <td>1935</td>\n",
       "    </tr>\n",
       "    <tr>\n",
       "      <td>11</td>\n",
       "      <td>Skirts polka dot</td>\n",
       "      <td>1881</td>\n",
       "    </tr>\n",
       "    <tr>\n",
       "      <td>12</td>\n",
       "      <td>Blouses check</td>\n",
       "      <td>1565</td>\n",
       "    </tr>\n",
       "    <tr>\n",
       "      <td>13</td>\n",
       "      <td>Skirts leopard print</td>\n",
       "      <td>1456</td>\n",
       "    </tr>\n",
       "    <tr>\n",
       "      <td>14</td>\n",
       "      <td>Blouses leopard print</td>\n",
       "      <td>932</td>\n",
       "    </tr>\n",
       "    <tr>\n",
       "      <td>15</td>\n",
       "      <td>Skirts camouflage</td>\n",
       "      <td>326</td>\n",
       "    </tr>\n",
       "    <tr>\n",
       "      <td>16</td>\n",
       "      <td>Dresses camouflage</td>\n",
       "      <td>274</td>\n",
       "    </tr>\n",
       "    <tr>\n",
       "      <td>17</td>\n",
       "      <td>Blouses camouflage</td>\n",
       "      <td>97</td>\n",
       "    </tr>\n",
       "  </tbody>\n",
       "</table>\n",
       "</div>"
      ],
      "text/plain": [
       "   product_fabric_print_type  count\n",
       "0       Dresses floral print   3548\n",
       "1             Dresses stripe   3247\n",
       "2       Blouses floral print   3115\n",
       "3               Skirts check   2904\n",
       "4          Dresses polka dot   2839\n",
       "5              Skirts stripe   2837\n",
       "6              Dresses check   2807\n",
       "7        Skirts floral print   2766\n",
       "8          Blouses polka dot   2628\n",
       "9             Blouses stripe   2493\n",
       "10     Dresses leopard print   1935\n",
       "11          Skirts polka dot   1881\n",
       "12             Blouses check   1565\n",
       "13      Skirts leopard print   1456\n",
       "14     Blouses leopard print    932\n",
       "15         Skirts camouflage    326\n",
       "16        Dresses camouflage    274\n",
       "17        Blouses camouflage     97"
      ]
     },
     "execution_count": 14,
     "metadata": {},
     "output_type": "execute_result"
    }
   ],
   "source": [
    "classCounts = temp1.rename_axis('class').reset_index()\n",
    "classCounts.columns = ['product_fabric_print_type', 'count']\n",
    "classCounts"
   ]
  },
  {
   "cell_type": "code",
   "execution_count": 15,
   "metadata": {
    "colab": {
     "base_uri": "https://localhost:8080/",
     "height": 34
    },
    "colab_type": "code",
    "id": "YiFXMzS0QpEw",
    "outputId": "63112d46-ede9-4b63-d337-7da0d0956757"
   },
   "outputs": [
    {
     "data": {
      "text/plain": [
       "['Skirts camouflage', 'Dresses camouflage', 'Blouses camouflage']"
      ]
     },
     "execution_count": 15,
     "metadata": {},
     "output_type": "execute_result"
    }
   ],
   "source": [
    "classBalanceNames = classCounts[classCounts['count']<400]['product_fabric_print_type'].values.tolist()\n",
    "classBalanceNames"
   ]
  },
  {
   "cell_type": "code",
   "execution_count": 17,
   "metadata": {
    "colab": {
     "base_uri": "https://localhost:8080/",
     "height": 296
    },
    "colab_type": "code",
    "id": "NjlREVPJZvO0",
    "outputId": "bcb21e35-545f-4d10-80a0-422f4e08baf8"
   },
   "outputs": [
    {
     "data": {
      "text/html": [
       "<div>\n",
       "<style scoped>\n",
       "    .dataframe tbody tr th:only-of-type {\n",
       "        vertical-align: middle;\n",
       "    }\n",
       "\n",
       "    .dataframe tbody tr th {\n",
       "        vertical-align: top;\n",
       "    }\n",
       "\n",
       "    .dataframe thead th {\n",
       "        text-align: right;\n",
       "    }\n",
       "</style>\n",
       "<table border=\"1\" class=\"dataframe\">\n",
       "  <thead>\n",
       "    <tr style=\"text-align: right;\">\n",
       "      <th></th>\n",
       "      <th>filename</th>\n",
       "      <th>Blouses</th>\n",
       "      <th>Dresses</th>\n",
       "      <th>Skirts</th>\n",
       "      <th>camouflage</th>\n",
       "      <th>check</th>\n",
       "      <th>floral print</th>\n",
       "      <th>leopard print</th>\n",
       "      <th>polka dot</th>\n",
       "      <th>stripe</th>\n",
       "      <th>product_fabric_print_type</th>\n",
       "    </tr>\n",
       "  </thead>\n",
       "  <tbody>\n",
       "    <tr>\n",
       "      <td>0</td>\n",
       "      <td>2c6038d030f7e52a5798e6e5734c8ded-1.jpg</td>\n",
       "      <td>0</td>\n",
       "      <td>1</td>\n",
       "      <td>0</td>\n",
       "      <td>1</td>\n",
       "      <td>0</td>\n",
       "      <td>0</td>\n",
       "      <td>0</td>\n",
       "      <td>0</td>\n",
       "      <td>0</td>\n",
       "      <td>Dresses camouflage</td>\n",
       "    </tr>\n",
       "    <tr>\n",
       "      <td>1</td>\n",
       "      <td>89583cfdcde796b219f8655388777bbb-3.jpg</td>\n",
       "      <td>0</td>\n",
       "      <td>1</td>\n",
       "      <td>0</td>\n",
       "      <td>1</td>\n",
       "      <td>0</td>\n",
       "      <td>0</td>\n",
       "      <td>0</td>\n",
       "      <td>0</td>\n",
       "      <td>0</td>\n",
       "      <td>Dresses camouflage</td>\n",
       "    </tr>\n",
       "    <tr>\n",
       "      <td>2</td>\n",
       "      <td>2e74a5870a81c24aa7fb5c86a228cf17-1.jpg</td>\n",
       "      <td>1</td>\n",
       "      <td>0</td>\n",
       "      <td>0</td>\n",
       "      <td>0</td>\n",
       "      <td>1</td>\n",
       "      <td>0</td>\n",
       "      <td>0</td>\n",
       "      <td>0</td>\n",
       "      <td>0</td>\n",
       "      <td>Blouses check</td>\n",
       "    </tr>\n",
       "    <tr>\n",
       "      <td>3</td>\n",
       "      <td>bc70bcf7735186b955cae0af6a54c5c2-2.jpg</td>\n",
       "      <td>1</td>\n",
       "      <td>0</td>\n",
       "      <td>0</td>\n",
       "      <td>0</td>\n",
       "      <td>1</td>\n",
       "      <td>0</td>\n",
       "      <td>0</td>\n",
       "      <td>0</td>\n",
       "      <td>0</td>\n",
       "      <td>Blouses check</td>\n",
       "    </tr>\n",
       "    <tr>\n",
       "      <td>4</td>\n",
       "      <td>10f2c35f45d4286d361e50b08649b890-1.jpg</td>\n",
       "      <td>1</td>\n",
       "      <td>0</td>\n",
       "      <td>0</td>\n",
       "      <td>0</td>\n",
       "      <td>1</td>\n",
       "      <td>0</td>\n",
       "      <td>0</td>\n",
       "      <td>0</td>\n",
       "      <td>0</td>\n",
       "      <td>Blouses check</td>\n",
       "    </tr>\n",
       "  </tbody>\n",
       "</table>\n",
       "</div>"
      ],
      "text/plain": [
       "                                 filename  Blouses  Dresses  Skirts  \\\n",
       "0  2c6038d030f7e52a5798e6e5734c8ded-1.jpg        0        1       0   \n",
       "1  89583cfdcde796b219f8655388777bbb-3.jpg        0        1       0   \n",
       "2  2e74a5870a81c24aa7fb5c86a228cf17-1.jpg        1        0       0   \n",
       "3  bc70bcf7735186b955cae0af6a54c5c2-2.jpg        1        0       0   \n",
       "4  10f2c35f45d4286d361e50b08649b890-1.jpg        1        0       0   \n",
       "\n",
       "   camouflage  check  floral print  leopard print  polka dot  stripe  \\\n",
       "0           1      0             0              0          0       0   \n",
       "1           1      0             0              0          0       0   \n",
       "2           0      1             0              0          0       0   \n",
       "3           0      1             0              0          0       0   \n",
       "4           0      1             0              0          0       0   \n",
       "\n",
       "  product_fabric_print_type  \n",
       "0        Dresses camouflage  \n",
       "1        Dresses camouflage  \n",
       "2             Blouses check  \n",
       "3             Blouses check  \n",
       "4             Blouses check  "
      ]
     },
     "execution_count": 17,
     "metadata": {},
     "output_type": "execute_result"
    }
   ],
   "source": [
    "finaldf= image_labels_positions.drop(['x_min','y_min','x_max','y_max', 'product_type', 'fabric_print_type'],axis=1)\n",
    "finaldf.head()"
   ]
  },
  {
   "cell_type": "code",
   "execution_count": 18,
   "metadata": {
    "colab": {
     "base_uri": "https://localhost:8080/",
     "height": 50
    },
    "colab_type": "code",
    "id": "JNkfzmJ2aYtL",
    "outputId": "22c18d90-f4fc-4040-cedf-a3f52dc90d98"
   },
   "outputs": [
    {
     "name": "stdout",
     "output_type": "stream",
     "text": [
      "[0, 1, 0, 1, 0, 0, 0, 0, 0]\n",
      "500\n"
     ]
    }
   ],
   "source": [
    "samples = finaldf.values.tolist()\n",
    "print(samples[1][1:-1])\n",
    "lines = samples[:500][:]\n",
    "print(len(lines))"
   ]
  },
  {
   "cell_type": "code",
   "execution_count": 19,
   "metadata": {
    "colab": {},
    "colab_type": "code",
    "id": "I5LFBWbtbX7Y"
   },
   "outputs": [],
   "source": [
    "def translateImg(image, trans_range):\n",
    "    translateW = trans_range*np.random.uniform()-trans_range/2\n",
    "    translateH = trans_range*np.random.uniform()-trans_range/2\n",
    "    Trans_M = np.float32([[1,0,translateW],[0,1,translateH]])\n",
    "\n",
    "    shifted = cv2.warpAffine(image,Trans_M,(image.shape[1], image.shape[0]))\n",
    "    return (shifted)"
   ]
  },
  {
   "cell_type": "code",
   "execution_count": 20,
   "metadata": {
    "colab": {},
    "colab_type": "code",
    "id": "x0ZD6-XINGxN"
   },
   "outputs": [],
   "source": [
    "def rotateImg(img, degrees):\n",
    "    (h, w) = img.shape[:2]\n",
    "    (cX, cY) = (w / 2, h / 2)\n",
    "    M = cv2.getRotationMatrix2D((cX, cY), degrees, 1.0)\n",
    "    rotated = cv2.warpAffine(img, M, (w, h))\n",
    "    \n",
    "    return (rotated)\n",
    "\n",
    "def shearImg(img,shear_range):\n",
    "    points1 = np.float32([[5,5],[20,5],[5,20]])\n",
    "    p1 = 5+shear_range*np.random.uniform()-shear_range/2\n",
    "    p2 = 20+shear_range*np.random.uniform()-shear_range/2\n",
    "\n",
    "    points2 = np.float32([[p1,5],[p2,p1],[5,p2]])\n",
    "\n",
    "    shearM = cv2.getAffineTransform(points1,points2)\n",
    "    sheared = cv2.warpAffine(img,shearM,(img.shape[1], img.shape[0]))\n",
    "\n",
    "    #   print (\"in sheared\", np.shape(sheared))\n",
    "    return (sheared)\n",
    "\n",
    "def randomFlipOrBrightness(img):\n",
    "    if np.random.random()>0.5:\n",
    "        finalImg = adjustBrightness(img)  \n",
    "    else:\n",
    "        finalImg = cv2.flip(img, 1)\n",
    "    \n",
    "\n",
    "    return (finalImg)\n",
    "\n",
    "def gaussianBlur(img):\n",
    "#     ksize= np.random.randint(1,4)\n",
    "    \n",
    "    blurImg = cv2.GaussianBlur(img, (5,5), 0)\n",
    "    return (blurImg)\n",
    "\n",
    "def randomizeImage(x):\n",
    "    rotationMin = -20.0\n",
    "    rotationMax = 20.0\n",
    "    shearRange = 5\n",
    "    translateRange=5\n",
    "\n",
    "    changeType = np.random.randint(6)\n",
    "    img = x\n",
    "\n",
    "    if changeType == 0:\n",
    "        # Rotate the image randomly\n",
    "        degrees = np.random.uniform(rotationMin, rotationMax)\n",
    "        finalImg = rotateImg(img, degrees)\n",
    "    elif changeType == 1:\n",
    "        # Translate the image randomly\n",
    "        finalImg = translateImg(img, translateRange)\n",
    "    elif changeType == 2:\n",
    "        # Shear the Image\n",
    "        finalImg= shearImg(img, shearRange)\n",
    "    elif changeType == 3:\n",
    "        # Add random Brightness to the image or Flip it\n",
    "        finalImg = randomFlipOrBrightness(img)\n",
    "    elif changeType == 4:\n",
    "        # Add gaussian blur to de - noise image\n",
    "        finalImg = gaussianBlur(img)\n",
    "        \n",
    "    else:\n",
    "        finalImg = img\n",
    "#   print (\"in all\", np.shape(new_x))\n",
    "    return (finalImg)   "
   ]
  },
  {
   "cell_type": "code",
   "execution_count": 21,
   "metadata": {
    "colab": {},
    "colab_type": "code",
    "id": "dPV0cYO_V5Sv"
   },
   "outputs": [],
   "source": [
    "def preprocessClassImage(x):\n",
    "    rotationMin = -20.0\n",
    "    rotationMax = 20.0\n",
    "    shearRange = 5\n",
    "    translateRange=5\n",
    "\n",
    "    changeType = np.random.randint(5)\n",
    "    img = x\n",
    "\n",
    "    if changeType == 0:\n",
    "        degrees = np.random.uniform(rotationMin, rotationMax)\n",
    "        finalImg = rotateImg(img, degrees)\n",
    "    elif changeType == 1: \n",
    "        finalImg = translateImg(img, translateRange)\n",
    "    elif changeType == 2: \n",
    "#     :\n",
    "        finalImg= shearImg(img, shearRange)\n",
    "    elif changeType == 3:\n",
    "        \n",
    "        finalImg = randomFlipOrBrightness(img)\n",
    "    else :\n",
    "        finalImg = gaussianBlur(img)\n",
    "\n",
    "    return (finalImg)   "
   ]
  },
  {
   "cell_type": "code",
   "execution_count": 22,
   "metadata": {
    "colab": {},
    "colab_type": "code",
    "id": "RW4HBwngNK0X"
   },
   "outputs": [],
   "source": [
    "def adjustBrightness(image):\n",
    "    # Convert from RGB TO HSV\n",
    "    image = cv2.cvtColor(image,cv2.COLOR_RGB2HSV)\n",
    "    # Randomly set the Brightness used to scale\n",
    "    randomBrightness = 0.5+np.random.uniform()\n",
    "\n",
    "    # Silce and scale down the third (V) channel\n",
    "    image[:,:,2] = image[:,:,2]*randomBrightness\n",
    "\n",
    "    # Convert back to RGB\n",
    "    image = cv2.cvtColor(image,cv2.COLOR_HSV2RGB)\n",
    "\n",
    "    #   print (\"in adjustBrightness\", np.shape(image))\n",
    "    return (image)"
   ]
  },
  {
   "cell_type": "code",
   "execution_count": 23,
   "metadata": {},
   "outputs": [],
   "source": [
    "\n",
    "def generator(samples, batch_size=16):\n",
    "    num_samples = len(samples) # Get the Length of the sample\n",
    "    while 1: # Loop forever so the generator never terminates\n",
    "        sklearn.utils.shuffle(samples)\n",
    "      \n",
    "        for offset in range(0, (num_samples//batch_size)*batch_size, batch_size):\n",
    "            batch_samples = samples[offset:offset+batch_size]\n",
    "    #         print (\"offset == \", offset)\n",
    "            category_list = ['Skirts camouflage', 'Dresses camouflage', 'Blouses camouflage']\n",
    "            images=[]\n",
    "            labels = []\n",
    "            for batch_sample in batch_samples:\n",
    "#                 current_path='.//Data//ImageClassification//Train//'+batch_sample[0]\n",
    "                current_path='.//Data//Training_images_after_crop//'+batch_sample[0] \n",
    "                image = cv2.imread(current_path)\n",
    "                b,g,r = cv2.split(image)       # get b,g,r\n",
    "                image = cv2.merge([r,g,b]) \n",
    "#                 image = cv2.resize(image, (32,32))\n",
    "                label=batch_sample[1:-1]\n",
    "                if str(batch_sample[-1]) in category_list:\n",
    "                    if (str(batch_sample[-1]) == 'Blouses camouflage'):\n",
    "                        images.append(image)\n",
    "                        \n",
    "                        labels.append(label)\n",
    "                        \n",
    "                        rotationMin = -20.0\n",
    "                        rotationMax = 20.0\n",
    "                        shearRange = 5\n",
    "                        translateRange = 5\n",
    "\n",
    "                        degrees = np.random.uniform(rotationMin, rotationMax)\n",
    "\n",
    "                        finalImage = rotateImg(image, degrees)\n",
    "                        images.append(finalImage)\n",
    "                        labels.append(label)\n",
    "                        \n",
    "                        finalImage = translateImg(image, translateRange)\n",
    "                        images.append(finalImage)\n",
    "                        labels.append(label)\n",
    "\n",
    "                        finalImage= shearImg(image, shearRange)\n",
    "                        images.append(finalImage)\n",
    "                        labels.append(label)\n",
    "                        \n",
    "                        finalImage = adjustBrightness(image)  \n",
    "                        images.append(finalImage)\n",
    "                        labels.append(label)\n",
    "                        \n",
    "                        finalImage = cv2.flip(image, 1)\n",
    "                        images.append(finalImage)\n",
    "                        labels.append(label)\n",
    "                        \n",
    "                        blurImage = cv2.GaussianBlur(image, (5,5), 0)\n",
    "                        images.append(blurImage)\n",
    "                        labels.append(label)\n",
    "                        \n",
    "                    else:\n",
    "                        \n",
    "                        images.append(image)\n",
    "                        labels.append(label)                            \n",
    "                        \n",
    "                        preprocessedImage = preprocessClassImage(image)\n",
    "                        \n",
    "                        images.append(preprocessedImage)\n",
    "                        labels.append(label)\n",
    "\n",
    "                else:\n",
    "                    \n",
    "                    randomizedProcessedImage= randomizeImage(image)\n",
    "                    \n",
    "                    images.append(randomizedProcessedImage)\n",
    "                    labels.append(label)\n",
    "                \n",
    "                \n",
    "               \n",
    "            X_train = np.array(images)\n",
    "            y_train = np.array(labels)\n",
    "            \n",
    "            X_train =  (X_train / 255.0) - 0.5\n",
    "            yield ([X_train], [y_train])\n",
    "        \n",
    "        "
   ]
  },
  {
   "cell_type": "code",
   "execution_count": 24,
   "metadata": {
    "colab": {},
    "colab_type": "code",
    "id": "jrEA0ZQp2qOR"
   },
   "outputs": [],
   "source": [
    "train_samples, test_samples = train_test_split(samples, test_size=0.2)\n",
    "\n",
    "# Further split training samples to training and validation dataset\n",
    "splitIndex=math.floor(len(train_samples)*0.8)\n",
    "trainData=train_samples[:splitIndex]\n",
    "validationData=train_samples[splitIndex:]"
   ]
  },
  {
   "cell_type": "code",
   "execution_count": 25,
   "metadata": {
    "colab": {},
    "colab_type": "code",
    "id": "wpmf0b8_dZHa"
   },
   "outputs": [],
   "source": [
    "batchSize= 32\n",
    "trainGenerator=generator(trainData, batchSize)\n",
    "validationGenerator=generator(validationData, batchSize)"
   ]
  },
  {
   "cell_type": "code",
   "execution_count": 26,
   "metadata": {},
   "outputs": [],
   "source": [
    "\n",
    "from tensorflow.keras.optimizers import Adam\n"
   ]
  },
  {
   "cell_type": "code",
   "execution_count": 27,
   "metadata": {
    "colab": {},
    "colab_type": "code",
    "id": "sdLDGy7tdj6K"
   },
   "outputs": [],
   "source": [
    "model = Sequential()\n",
    "\n",
    "# model.add(Lambda(lambda x: x/255.0 - 0.5, input_shape =(250,250,3)))\n",
    "\n",
    "model.add(Conv2D(filters = 16,kernel_size = (3,3), input_shape =(250,250,3)))\n",
    "model.add(Activation(LeakyReLU(alpha=0.07)))\n",
    "model.add(MaxPooling2D(pool_size=(2,2)))\n",
    "model.add(Dropout(0.2))\n",
    "\n",
    "model.add(Conv2D(filters = 32 ,kernel_size = (3,3), activation = 'relu'))\n",
    "model.add(MaxPooling2D(pool_size=(2,2)))\n",
    "model.add(Dropout(0.2))\n",
    "\n",
    "model.add(Conv2D(64 ,(3,3)))\n",
    "model.add(Activation(LeakyReLU(alpha=0.07)))\n",
    "model.add(MaxPooling2D(pool_size = (2,2)))\n",
    "# model.add(Dropout(0.15))\n",
    "\n",
    "model.add(Flatten())\n",
    "\n",
    "model.add(Dense(128, activation = 'relu'))\n",
    "\n",
    "model.add(Dense(64))\n",
    "model.add(Activation(LeakyReLU(alpha=0.07)))\n",
    "model.add(Dropout(0.5))\n",
    "\n",
    "model.add(Dense(32,  activation = 'relu'))\n",
    "\n",
    "# model.add(Dense(9 , activation = 'softmax'))\n",
    "\n",
    "model.add(Dense(9 , activation = 'sigmoid'))\n",
    "\n",
    "# adm = Adam(learning_rate = 1e-05)\n",
    "model.compile(optimizer='adam', loss='binary_crossentropy', metrics=['accuracy'])\n"
   ]
  },
  {
   "cell_type": "code",
   "execution_count": 2,
   "metadata": {},
   "outputs": [],
   "source": [
    "# model.summary()"
   ]
  },
  {
   "cell_type": "code",
   "execution_count": 29,
   "metadata": {},
   "outputs": [],
   "source": [
    "\n",
    "from  tensorflow.keras.callbacks import EarlyStopping"
   ]
  },
  {
   "cell_type": "code",
   "execution_count": 30,
   "metadata": {
    "colab": {},
    "colab_type": "code",
    "id": "fUMtqjQ0_1pe"
   },
   "outputs": [
    {
     "name": "stdout",
     "output_type": "stream",
     "text": [
      "Epoch 1/30\n",
      "753/753 [==============================] - 349s 463ms/step - loss: 0.5002 - accuracy: 0.7825 - val_loss: 0.4528 - val_accuracy: 0.8037\n",
      "Epoch 2/30\n",
      "753/753 [==============================] - 418s 555ms/step - loss: 0.4445 - accuracy: 0.8083 - val_loss: 0.4124 - val_accuracy: 0.8196\n",
      "Epoch 3/30\n",
      "753/753 [==============================] - 404s 537ms/step - loss: 0.4028 - accuracy: 0.8258 - val_loss: 0.3744 - val_accuracy: 0.8352\n",
      "Epoch 4/30\n",
      "753/753 [==============================] - 353s 468ms/step - loss: 0.3675 - accuracy: 0.8413 - val_loss: 0.3439 - val_accuracy: 0.8503\n",
      "Epoch 5/30\n",
      "753/753 [==============================] - 352s 468ms/step - loss: 0.3405 - accuracy: 0.8542 - val_loss: 0.3284 - val_accuracy: 0.8590\n",
      "Epoch 6/30\n",
      "753/753 [==============================] - 354s 471ms/step - loss: 0.3206 - accuracy: 0.8643 - val_loss: 0.3220 - val_accuracy: 0.8634\n",
      "Epoch 7/30\n",
      "753/753 [==============================] - 353s 469ms/step - loss: 0.3018 - accuracy: 0.8735 - val_loss: 0.3088 - val_accuracy: 0.8698\n",
      "Epoch 8/30\n",
      "753/753 [==============================] - 354s 470ms/step - loss: 0.2875 - accuracy: 0.8807 - val_loss: 0.3078 - val_accuracy: 0.8708\n",
      "Epoch 9/30\n",
      "753/753 [==============================] - 353s 469ms/step - loss: 0.2709 - accuracy: 0.8890 - val_loss: 0.3136 - val_accuracy: 0.8700\n",
      "Epoch 10/30\n",
      "753/753 [==============================] - 352s 468ms/step - loss: 0.2581 - accuracy: 0.8951 - val_loss: 0.3143 - val_accuracy: 0.8690\n",
      "Epoch 11/30\n",
      "753/753 [==============================] - 352s 468ms/step - loss: 0.2459 - accuracy: 0.9007 - val_loss: 0.3094 - val_accuracy: 0.8742\n",
      "Epoch 12/30\n",
      "753/753 [==============================] - 352s 467ms/step - loss: 0.2352 - accuracy: 0.9052 - val_loss: 0.3149 - val_accuracy: 0.8755\n",
      "Epoch 13/30\n",
      "753/753 [==============================] - 354s 470ms/step - loss: 0.2270 - accuracy: 0.9100 - val_loss: 0.3210 - val_accuracy: 0.8704\n"
     ]
    }
   ],
   "source": [
    "## ************ADD EARLY STOPPING*************\n",
    "\n",
    "\n",
    "callback = EarlyStopping(monitor='val_loss', patience = 5)\n",
    "\n",
    "history = model.fit_generator(trainGenerator,\n",
    "            steps_per_epoch = len(trainData)//batchSize,\n",
    "            validation_data = validationGenerator,\n",
    "            validation_steps = len(validationData)//batchSize,\n",
    "            epochs=30, verbose=1, callbacks=[callback])                             \n",
    "\n",
    "model.save('model_test_v7.h5')\n",
    "\n",
    "\n"
   ]
  },
  {
   "cell_type": "code",
   "execution_count": 31,
   "metadata": {},
   "outputs": [],
   "source": [
    "# with open('history_V7.pickle', 'wb') as f:\n",
    "#     pickle.dump(history.history, f)"
   ]
  },
  {
   "cell_type": "code",
   "execution_count": 32,
   "metadata": {},
   "outputs": [
    {
     "data": {
      "image/png": "[encoded data removed]",
      "text/plain": [
       "<Figure size 432x288 with 1 Axes>"
      ]
     },
     "metadata": {
      "needs_background": "light"
     },
     "output_type": "display_data"
    },
    {
     "data": {
      "image/png": "[encoded data removed]",
      "text/plain": [
       "<Figure size 432x288 with 1 Axes>"
      ]
     },
     "metadata": {
      "needs_background": "light"
     },
     "output_type": "display_data"
    }
   ],
   "source": [
    "# Plot training & validation accuracy values\n",
    "plt.plot(history.history['accuracy'])\n",
    "plt.plot(history.history['val_accuracy'])\n",
    "plt.title('Model accuracy')\n",
    "plt.ylabel('Accuracy')\n",
    "plt.xlabel('Epoch')\n",
    "plt.legend(['Train', 'Validation'], loc='upper left')\n",
    "plt.show()\n",
    "\n",
    "# Plot training & validation loss values\n",
    "plt.plot(history.history['loss'])\n",
    "plt.plot(history.history['val_loss'])\n",
    "plt.title('Model loss')\n",
    "plt.ylabel('Loss')\n",
    "plt.xlabel('Epoch')\n",
    "plt.legend(['Train', 'Validation'], loc='upper left')\n",
    "plt.show()"
   ]
  },
  {
   "cell_type": "code",
   "execution_count": 33,
   "metadata": {},
   "outputs": [],
   "source": [
    "# model.summary()"
   ]
  },
  {
   "cell_type": "code",
   "execution_count": 34,
   "metadata": {},
   "outputs": [],
   "source": [
    "# model.history"
   ]
  },
  {
   "cell_type": "code",
   "execution_count": 27,
   "metadata": {},
   "outputs": [],
   "source": [
    "# from tensorflow.keras.layers import LeakyReLU\n",
    "import tensorflow\n",
    "model = tensorflow.keras.models.load_model('model_test_v4.h5', custom_objects={'LeakyReLU': LeakyReLU})\n",
    "\n",
    "# model = tensorflow.keras.models.load_model('model_CE_15_epochs_64_BS_softmax_CE.h5', custom_objects={'LeakyReLU': LeakyReLU})"
   ]
  },
  {
   "cell_type": "code",
   "execution_count": 49,
   "metadata": {},
   "outputs": [
    {
     "name": "stdout",
     "output_type": "stream",
     "text": [
      "Model: \"sequential\"\n",
      "_________________________________________________________________\n",
      "Layer (type)                 Output Shape              Param #   \n",
      "=================================================================\n",
      "conv2d (Conv2D)              (None, 248, 248, 16)      448       \n",
      "_________________________________________________________________\n",
      "activation (Activation)      (None, 248, 248, 16)      0         \n",
      "_________________________________________________________________\n",
      "max_pooling2d (MaxPooling2D) (None, 124, 124, 16)      0         \n",
      "_________________________________________________________________\n",
      "dropout (Dropout)            (None, 124, 124, 16)      0         \n",
      "_________________________________________________________________\n",
      "conv2d_1 (Conv2D)            (None, 122, 122, 32)      4640      \n",
      "_________________________________________________________________\n",
      "max_pooling2d_1 (MaxPooling2 (None, 61, 61, 32)        0         \n",
      "_________________________________________________________________\n",
      "dropout_1 (Dropout)          (None, 61, 61, 32)        0         \n",
      "_________________________________________________________________\n",
      "conv2d_2 (Conv2D)            (None, 59, 59, 64)        18496     \n",
      "_________________________________________________________________\n",
      "activation_1 (Activation)    (None, 59, 59, 64)        0         \n",
      "_________________________________________________________________\n",
      "max_pooling2d_2 (MaxPooling2 (None, 29, 29, 64)        0         \n",
      "_________________________________________________________________\n",
      "flatten (Flatten)            (None, 53824)             0         \n",
      "_________________________________________________________________\n",
      "dense (Dense)                (None, 128)               6889600   \n",
      "_________________________________________________________________\n",
      "dense_1 (Dense)              (None, 64)                8256      \n",
      "_________________________________________________________________\n",
      "activation_2 (Activation)    (None, 64)                0         \n",
      "_________________________________________________________________\n",
      "dropout_2 (Dropout)          (None, 64)                0         \n",
      "_________________________________________________________________\n",
      "dense_2 (Dense)              (None, 32)                2080      \n",
      "_________________________________________________________________\n",
      "dense_3 (Dense)              (None, 9)                 297       \n",
      "=================================================================\n",
      "Total params: 6,923,817\n",
      "Trainable params: 6,923,817\n",
      "Non-trainable params: 0\n",
      "_________________________________________________________________\n"
     ]
    }
   ],
   "source": [
    "model.summary()"
   ]
  },
  {
   "cell_type": "code",
   "execution_count": 37,
   "metadata": {},
   "outputs": [
    {
     "data": {
      "image/png": "[encoded data removed]",
      "text/plain": [
       "<Figure size 432x288 with 1 Axes>"
      ]
     },
     "metadata": {
      "needs_background": "light"
     },
     "output_type": "display_data"
    }
   ],
   "source": [
    "idx = 1520\n",
    "current_path = './/Data//Training_images_after_crop//' +  test_samples[idx][0]\n",
    "\n",
    "test = (cv2.imread(current_path, cv2.COLOR_BGR2RGB)) \n",
    "\n",
    "plt.imshow(test)  \n",
    "plt.show()"
   ]
  },
  {
   "cell_type": "code",
   "execution_count": 38,
   "metadata": {},
   "outputs": [
    {
     "name": "stdout",
     "output_type": "stream",
     "text": [
      "test_samples[idx][0] df581b09cd1d5cfca2bebb62eaf6f82a-1.jpg\n",
      ".//Data//Training_images_after_crop//df581b09cd1d5cfca2bebb62eaf6f82a-1.jpg\n",
      "===============================================\n",
      "image_test_lables [0, 1, 0, 0, 0, 0, 0, 1, 0]\n",
      "proba_1 = [[4.5686960e-05 9.3129623e-01 6.6898894e-01 0.0000000e+00 0.0000000e+00\n",
      "  8.9406967e-08 2.7716160e-06 1.0000000e+00 0.0000000e+00]]\n"
     ]
    }
   ],
   "source": [
    "# test_images[0]\n",
    "idx = 3997\n",
    "current_path ='.//Data//Training_images_after_crop//' +  test_samples[idx][0]\n",
    "print (\"test_samples[idx][0]\", test_samples[idx][0])\n",
    "\n",
    "image_test = cv2.imread(current_path, cv2.COLOR_BGR2RGB)\n",
    "\n",
    "print (current_path)\n",
    "\n",
    "# b,g,r = cv2.split(image_test)       # get b,g,r\n",
    "# image_test = cv2.merge([r,g,b]) \n",
    "image_test = np.array(image_test)\n",
    "# print (image_test)\n",
    "image_test = (image_test/255.0) - 0.5\n",
    "print (\"===============================================\")\n",
    "# print (image_test)\n",
    "image_test_lables = test_samples[idx][1:-1]\n",
    "\n",
    "print (\"image_test_lables\" , image_test_lables)\n",
    "\n",
    "proba_1 = model.predict(image_test.reshape(1,250,250,3))\n",
    "# proba_1 = model.predict(image_test)\n",
    "\n",
    "print (\"proba_1 =\", proba_1)\n",
    "\n"
   ]
  },
  {
   "cell_type": "code",
   "execution_count": 39,
   "metadata": {},
   "outputs": [
    {
     "name": "stdout",
     "output_type": "stream",
     "text": [
      "+++++++++++++++++++++++++++++++++++++++++++++++++++++++++++\n",
      "first_cat_actual =  Dresses\n",
      "first_class_pred =  Dresses\n",
      "+++++++++++++++++++++++++++++++++++++++++++++++++++++++++++\n",
      "second_cat_actual =  polka_dot\n",
      " second_class_pred =  polka_dot\n",
      "+++++++++++++++++++++++++++++++++++++++++++++++++++++++++++\n"
     ]
    }
   ],
   "source": [
    "\n",
    "classes = ['Blouses', 'Dresses', 'Skirts', 'camouflage', 'check', 'floral_print', 'leopard_print',\\\n",
    "                                  'polka_dot', 'stripe']\n",
    "first_cat = classes[0:3]\n",
    "second_cat = classes[3:]\n",
    "\n",
    "\n",
    "first_class_prob  = proba_1[0][0:3]\n",
    "ix = np.argmax(first_class_prob)\n",
    "temp_1 =first_cat[ix]\n",
    "temp_1\n",
    "\n",
    "first_class_actual = image_test_lables[0:3]\n",
    "first_class_actual_ix = np.argmax(first_class_actual)\n",
    "temp_2 = first_cat[first_class_actual_ix]\n",
    "temp_2\n",
    "\n",
    "second_class_prob  = proba_1[0][3:]\n",
    "ix = np.argmax(second_class_prob)\n",
    "temp_3 = second_cat[ix]\n",
    "temp_3\n",
    "\n",
    "second_class_actual = image_test_lables[3:]\n",
    "second_class_actual_ix = np.argmax(second_class_actual)\n",
    "temp_4 = second_cat[second_class_actual_ix]\n",
    "print(\"+++++++++++++++++++++++++++++++++++++++++++++++++++++++++++\")\n",
    "print (\"first_cat_actual = \", temp_2 )\n",
    "print (\"first_class_pred = \", temp_1 )\n",
    "\n",
    "print(\"+++++++++++++++++++++++++++++++++++++++++++++++++++++++++++\")\n",
    "print ( \"second_cat_actual = \", temp_4)\n",
    "print ( \" second_class_pred = \", temp_3)\n",
    "print(\"+++++++++++++++++++++++++++++++++++++++++++++++++++++++++++\")\n"
   ]
  },
  {
   "cell_type": "code",
   "execution_count": 40,
   "metadata": {},
   "outputs": [
    {
     "name": "stderr",
     "output_type": "stream",
     "text": [
      "Clipping input data to the valid range for imshow with RGB data ([0..1] for floats or [0..255] for integers).\n"
     ]
    },
    {
     "name": "stdout",
     "output_type": "stream",
     "text": [
      "Actual Class :  Dresses\n",
      "Actual Class :  polka_dot\n",
      "polka_dot (1.0)\n",
      "Dresses (0.931)\n"
     ]
    },
    {
     "data": {
      "image/png": "[encoded data removed]",
      "text/plain": [
       "<Figure size 432x288 with 1 Axes>"
      ]
     },
     "metadata": {
      "needs_background": "light"
     },
     "output_type": "display_data"
    }
   ],
   "source": [
    "top_3 = np.argsort(proba_1[0])[:-4:-1]\n",
    "\n",
    "\n",
    "classes = ['Blouses', 'Dresses', 'Skirts', 'camouflage', 'check', 'floral_print', 'leopard_print',\\\n",
    "                                  'polka_dot', 'stripe']\n",
    "\n",
    "\n",
    "for i in range(len(image_test_lables)):\n",
    "    if (image_test_lables[i] == 1):\n",
    "        print (\"Actual Class : \", classes[i] )\n",
    "        \n",
    "for i in range(2):\n",
    "    print(\"{}\".format(classes[top_3[i]])+\" ({:.3})\".format(proba_1[0][top_3[i]]))\n",
    "\n",
    "plt.imshow(image_test)\n",
    "plt.show()\n",
    "\n"
   ]
  },
  {
   "cell_type": "code",
   "execution_count": 29,
   "metadata": {},
   "outputs": [
    {
     "name": "stdout",
     "output_type": "stream",
     "text": [
      "7530\n",
      "7530\n"
     ]
    }
   ],
   "source": [
    "test_images = []\n",
    "test_labels = []\n",
    "for batch_sample in test_samples:\n",
    "#                 current_path='.//Data//ImageClassification//Train//'+batch_sample[0]\n",
    "    current_path='.//Data//Training_images_after_crop//' + batch_sample[0] \n",
    "    image = cv2.imread(current_path)\n",
    "    b,g,r = cv2.split(image)       # get b,g,r\n",
    "    image = cv2.merge([r,g,b]) \n",
    "#     image = cv2.resize(image_test, (250, 250))\n",
    "    \n",
    "    label=batch_sample[1:-1]\n",
    "    \n",
    "    \n",
    "    test_images.append(image)\n",
    "    test_labels.append(label)\n",
    "\n",
    "test_images = np.array(test_images)\n",
    "test_labels =  np.array(test_labels)\n",
    "    \n",
    "print (len(test_images))\n",
    "print (len(test_labels))\n",
    "\n"
   ]
  },
  {
   "cell_type": "code",
   "execution_count": 30,
   "metadata": {},
   "outputs": [
    {
     "name": "stdout",
     "output_type": "stream",
     "text": [
      "\n",
      "Test accuracy: 0.74535924\n"
     ]
    }
   ],
   "source": [
    "test_loss, test_acc = model.evaluate(test_images,  test_labels, verbose=0)\n",
    "\n",
    "print('\\nTest accuracy:', test_acc)"
   ]
  },
  {
   "cell_type": "code",
   "execution_count": 32,
   "metadata": {},
   "outputs": [
    {
     "data": {
      "text/plain": [
       "[0, 1, 0, 0, 0, 0, 0, 1, 0]"
      ]
     },
     "execution_count": 32,
     "metadata": {},
     "output_type": "execute_result"
    }
   ],
   "source": [
    "test_samples[1][1:-1]"
   ]
  },
  {
   "cell_type": "code",
   "execution_count": 33,
   "metadata": {},
   "outputs": [
    {
     "name": "stdout",
     "output_type": "stream",
     "text": [
      "0\n",
      "500\n",
      "1000\n",
      "1500\n",
      "2000\n",
      "2500\n",
      "3000\n",
      "3500\n",
      "4000\n",
      "4500\n",
      "5000\n",
      "5500\n",
      "6000\n",
      "6500\n",
      "7000\n",
      "7500\n"
     ]
    }
   ],
   "source": [
    "\n",
    "classes = ['Blouses', 'Dresses', 'Skirts', 'camouflage', 'check', 'floral_print', 'leopard_print',\\\n",
    "                                  'polka_dot', 'stripe']\n",
    "\n",
    "first_cat = classes[0:3]\n",
    "second_cat = classes[3:]\n",
    "\n",
    "test_images = []\n",
    "test_labels = []\n",
    "\n",
    "\n",
    "product_type_actual = []\n",
    "product_type_pred = []\n",
    "\n",
    "\n",
    "fabric_print_type_actual = []\n",
    "fabric_print_type_pred = []\n",
    "\n",
    "i = 0\n",
    "for batch_sample in test_samples:\n",
    "#     print (i)\n",
    "    \n",
    "    current_path='.//Data//Training_images_after_crop//' + batch_sample[0] \n",
    "    \n",
    "    image = cv2.imread(current_path)\n",
    "    b,g,r = cv2.split(image)       # get b,g,r\n",
    "    image = cv2.merge([r,g,b]) \n",
    "#     image = cv2.resize(image_test, (250, 250))\n",
    "    \n",
    "    image = (image/255.0) - 0.5\n",
    "    image_test_lables = test_samples[1:-1]\n",
    "\n",
    "    proba_11 = model.predict(image.reshape(1,250,250,3))\n",
    "\n",
    "    label = batch_sample[1:-1]\n",
    "    \n",
    "    first_class_actual = label[0:3]\n",
    "    first_class_actual_ix = np.argmax(first_class_actual)\n",
    "    temp_2 = first_cat[first_class_actual_ix]\n",
    "    \n",
    "#     print (first_class_actual_ix)\n",
    "\n",
    "    first_class_prob  = proba_11[0][0:3]\n",
    "    first_class_prob_ix = np.argmax(first_class_prob)\n",
    "#     print (first_class_prob_ix)\n",
    "    temp_1 = first_cat[first_class_prob_ix]\n",
    "    \n",
    "    product_type_actual.append(first_class_actual_ix)\n",
    "    product_type_pred.append(first_class_prob_ix)\n",
    "#     print (temp_1)\n",
    "\n",
    "    second_class_actual = label[3:]\n",
    "    second_class_actual_ix = np.argmax(second_class_actual)\n",
    "    temp_4 = second_cat[second_class_actual_ix]\n",
    "      \n",
    "    second_class_prob  = proba_11[0][3:]\n",
    "    second_class_prob_ix = np.argmax(second_class_prob)\n",
    "    temp_3 = second_cat[second_class_prob_ix]\n",
    "\n",
    "    fabric_print_type_actual.append(second_class_actual_ix)\n",
    "    fabric_print_type_pred.append(second_class_prob_ix)\n",
    "    \n",
    "    if (i % 500 == 0):\n",
    "        print (i)\n",
    "    \n",
    "    i += 1   \n"
   ]
  },
  {
   "cell_type": "code",
   "execution_count": 34,
   "metadata": {},
   "outputs": [
    {
     "name": "stdout",
     "output_type": "stream",
     "text": [
      "7530\n",
      "7530\n"
     ]
    }
   ],
   "source": [
    "print (len(product_type_actual))\n",
    "\n",
    "print (len(product_type_pred))"
   ]
  },
  {
   "cell_type": "code",
   "execution_count": 35,
   "metadata": {},
   "outputs": [],
   "source": [
    "from sklearn.metrics import accuracy_score"
   ]
  },
  {
   "cell_type": "code",
   "execution_count": 36,
   "metadata": {},
   "outputs": [
    {
     "data": {
      "text/plain": [
       "0.9073041168658699"
      ]
     },
     "execution_count": 36,
     "metadata": {},
     "output_type": "execute_result"
    }
   ],
   "source": [
    "# accuracy_score(y_true, y_pred)\n",
    "\n",
    "accuracy_score(product_type_actual, product_type_pred)"
   ]
  },
  {
   "cell_type": "code",
   "execution_count": 37,
   "metadata": {},
   "outputs": [
    {
     "data": {
      "text/plain": [
       "0.8393094289508632"
      ]
     },
     "execution_count": 37,
     "metadata": {},
     "output_type": "execute_result"
    }
   ],
   "source": [
    "accuracy_score(fabric_print_type_actual, fabric_print_type_pred)"
   ]
  },
  {
   "cell_type": "code",
   "execution_count": 38,
   "metadata": {},
   "outputs": [
    {
     "name": "stdout",
     "output_type": "stream",
     "text": [
      "product_type_precision =  [0.93493976 0.91147656 0.8806315 ]\n",
      "product_type_recall =  [0.88422972 0.90671772 0.92854243]\n"
     ]
    }
   ],
   "source": [
    "from sklearn.metrics import confusion_matrix\n",
    "import numpy as np\n",
    "\n",
    "cm = confusion_matrix(product_type_actual, product_type_pred)\n",
    "recall = np.diag(cm) / np.sum(cm, axis = 1)\n",
    "precision = np.diag(cm) / np.sum(cm, axis = 0)\n",
    "\n",
    "print (\"product_type_precision = \", precision)\n",
    "print (\"product_type_recall = \", recall)"
   ]
  },
  {
   "cell_type": "code",
   "execution_count": 39,
   "metadata": {},
   "outputs": [
    {
     "name": "stdout",
     "output_type": "stream",
     "text": [
      "[[ 114   12   11    3    2    8]\n",
      " [   2 1248   35   24   35   95]\n",
      " [   5  119 1475  115  114   76]\n",
      " [   2   33   46  743   44   11]\n",
      " [   3   61   67   34 1206   61]\n",
      " [   1  121   26    7   37 1534]]\n",
      "fabric_print_type_precision =  [0.8976378  0.78293601 0.88855422 0.80237581 0.83866481 0.85938375]\n",
      "fabric_print_type_recall =  [0.76       0.86726894 0.77468487 0.84527873 0.84217877 0.88876014]\n"
     ]
    }
   ],
   "source": [
    "from sklearn.metrics import confusion_matrix\n",
    "import numpy as np\n",
    "\n",
    "cm = confusion_matrix(fabric_print_type_actual, fabric_print_type_pred)\n",
    "recall = np.diag(cm) / np.sum(cm, axis = 1)\n",
    "precision = np.diag(cm) / np.sum(cm, axis = 0)\n",
    "print (cm)\n",
    "print (\"fabric_print_type_precision = \", precision)\n",
    "print (\"fabric_print_type_recall = \", recall)"
   ]
  },
  {
   "cell_type": "code",
   "execution_count": 40,
   "metadata": {},
   "outputs": [],
   "source": [
    "from sklearn.metrics import precision_recall_fscore_support\n",
    "from sklearn.metrics import precision_score\n"
   ]
  },
  {
   "cell_type": "code",
   "execution_count": 41,
   "metadata": {},
   "outputs": [
    {
     "data": {
      "text/plain": [
       "(0.9073041168658699, 0.9073041168658699, 0.9073041168658699, None)"
      ]
     },
     "execution_count": 41,
     "metadata": {},
     "output_type": "execute_result"
    }
   ],
   "source": [
    "# precision_recall_fscore_support(y_true, y_pred, average='micro')\n",
    "precision_recall_fscore_support(product_type_actual, product_type_pred, average='micro')"
   ]
  },
  {
   "cell_type": "code",
   "execution_count": 42,
   "metadata": {},
   "outputs": [
    {
     "data": {
      "text/plain": [
       "(0.8393094289508632, 0.8393094289508632, 0.8393094289508632, None)"
      ]
     },
     "execution_count": 42,
     "metadata": {},
     "output_type": "execute_result"
    }
   ],
   "source": [
    "precision_recall_fscore_support(fabric_print_type_actual, fabric_print_type_pred, average='micro')"
   ]
  },
  {
   "cell_type": "code",
   "execution_count": 43,
   "metadata": {},
   "outputs": [
    {
     "data": {
      "text/plain": [
       "(0.9090159379837354, 0.9064966206723346, 0.9073071452093114, None)"
      ]
     },
     "execution_count": 43,
     "metadata": {},
     "output_type": "execute_result"
    }
   ],
   "source": [
    "precision_recall_fscore_support(product_type_actual, product_type_pred, average='macro')"
   ]
  },
  {
   "cell_type": "code",
   "execution_count": 44,
   "metadata": {},
   "outputs": [
    {
     "data": {
      "text/plain": [
       "(0.8449253996427547, 0.8296952410892614, 0.8352143114047564, None)"
      ]
     },
     "execution_count": 44,
     "metadata": {},
     "output_type": "execute_result"
    }
   ],
   "source": [
    "precision_recall_fscore_support(fabric_print_type_actual, fabric_print_type_pred, average='macro')"
   ]
  },
  {
   "cell_type": "code",
   "execution_count": 45,
   "metadata": {},
   "outputs": [
    {
     "name": "stdout",
     "output_type": "stream",
     "text": [
      "precision: [0.93493976 0.91147656 0.8806315 ]\n",
      "recall: [0.88422972 0.90671772 0.92854243]\n",
      "fscore: [0.90887796 0.90909091 0.90395257]\n",
      "support: [2194 2873 2463]\n"
     ]
    }
   ],
   "source": [
    "from sklearn.metrics import precision_recall_fscore_support as score\n",
    "\n",
    "\n",
    "precision, recall, fscore, support = score(product_type_actual, product_type_pred)\n",
    "\n",
    "print('precision: {}'.format(precision))\n",
    "print('recall: {}'.format(recall))\n",
    "print('fscore: {}'.format(fscore))\n",
    "print('support: {}'.format(support))"
   ]
  },
  {
   "cell_type": "code",
   "execution_count": 46,
   "metadata": {},
   "outputs": [
    {
     "name": "stdout",
     "output_type": "stream",
     "text": [
      "precision: [0.8976378  0.78293601 0.88855422 0.80237581 0.83866481 0.85938375]\n",
      "recall: [0.76       0.86726894 0.77468487 0.84527873 0.84217877 0.88876014]\n",
      "fscore: [0.82310469 0.82294758 0.82772166 0.8232687  0.84041812 0.87382512]\n",
      "support: [ 150 1439 1904  879 1432 1726]\n"
     ]
    }
   ],
   "source": [
    "from sklearn.metrics import precision_recall_fscore_support as score\n",
    "\n",
    "precision, recall, fscore, support = score(fabric_print_type_actual, fabric_print_type_pred)\n",
    "\n",
    "print('precision: {}'.format(precision))\n",
    "print('recall: {}'.format(recall))\n",
    "print('fscore: {}'.format(fscore))\n",
    "print('support: {}'.format(support))"
   ]
  },
  {
   "cell_type": "code",
   "execution_count": 47,
   "metadata": {},
   "outputs": [
    {
     "name": "stdout",
     "output_type": "stream",
     "text": [
      "             precision    recall  f1-score   support\n",
      "\n",
      "          0       0.93      0.88      0.91      2194\n",
      "          1       0.91      0.91      0.91      2873\n",
      "          2       0.88      0.93      0.90      2463\n",
      "\n",
      "avg / total       0.91      0.91      0.91      7530\n",
      "\n"
     ]
    }
   ],
   "source": [
    "from sklearn.metrics import classification_report\n",
    "\n",
    "print(classification_report(product_type_actual, product_type_pred))"
   ]
  },
  {
   "cell_type": "code",
   "execution_count": 48,
   "metadata": {},
   "outputs": [
    {
     "name": "stdout",
     "output_type": "stream",
     "text": [
      "             precision    recall  f1-score   support\n",
      "\n",
      "          0       0.90      0.76      0.82       150\n",
      "          1       0.78      0.87      0.82      1439\n",
      "          2       0.89      0.77      0.83      1904\n",
      "          3       0.80      0.85      0.82       879\n",
      "          4       0.84      0.84      0.84      1432\n",
      "          5       0.86      0.89      0.87      1726\n",
      "\n",
      "avg / total       0.84      0.84      0.84      7530\n",
      "\n"
     ]
    }
   ],
   "source": [
    "from sklearn.metrics import classification_report\n",
    "\n",
    "print(classification_report(fabric_print_type_actual, fabric_print_type_pred))"
   ]
  },
  {
   "cell_type": "code",
   "execution_count": null,
   "metadata": {},
   "outputs": [],
   "source": []
  },
  {
   "cell_type": "code",
   "execution_count": null,
   "metadata": {},
   "outputs": [],
   "source": []
  }
 ],
 "metadata": {
  "colab": {
   "collapsed_sections": [],
   "name": "Copy of keras nandan_using_list_as_input.ipynb",
   "provenance": [],
   "toc_visible": true
  },
  "kernelspec": {
   "display_name": "Python 3",
   "language": "python",
   "name": "python3"
  },
  "language_info": {
   "codemirror_mode": {
    "name": "ipython",
    "version": 3
   },
   "file_extension": ".py",
   "mimetype": "text/x-python",
   "name": "python",
   "nbconvert_exporter": "python",
   "pygments_lexer": "ipython3",
   "version": "3.7.4"
  }
 },
 "nbformat": 4,
 "nbformat_minor": 4
}
